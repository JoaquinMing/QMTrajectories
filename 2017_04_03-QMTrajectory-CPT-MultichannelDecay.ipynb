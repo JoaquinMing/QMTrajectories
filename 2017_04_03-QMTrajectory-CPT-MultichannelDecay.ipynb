{
 "cells": [
  {
   "cell_type": "code",
   "execution_count": 1,
   "metadata": {
    "collapsed": true
   },
   "outputs": [],
   "source": [
    "import numpy as np\n",
    "from scipy import linalg\n",
    "import matplotlib.pyplot as plt\n",
    "%matplotlib inline\n",
    "import itertools"
   ]
  },
  {
   "cell_type": "markdown",
   "metadata": {
    "collapsed": true
   },
   "source": [
    "# Quantum Trajectories Simulation of Multilevel Driven-Dissipative system: Different Unravelings of the Master Equation"
   ]
  },
  {
   "cell_type": "markdown",
   "metadata": {},
   "source": [
    "## Model and Motivation \n",
    "\n",
    "### General Concepts\n",
    "\n",
    "The goal of this notebook is to use a simple model of a driven-dissipative system with multiple jump operators to understand how the quantum trajectories formalism applies to this case. In particular, multiple jump operators allows for the idea of different \"unravelings\" of the master equation to occur - wherein we can probe the system using differen sets of POVMs or Kraus operators. In this case, we will consider Coherent Population Trapping (CPT), i.e. population of a dark state, in a two-level system with 3-fold Zeeman degeneracy. The general master equation for a system with multiple Linblad jump operators $\\hat{L}_{\\mu}$ is given by \n",
    "$$\\frac{\\partial \\hat{\\rho}}{\\partial t} = -\\frac{i}{\\hbar}\\left[H_{eff},\\hat{\\rho}\\right]' + \\sum_{\\mu = 1}^{M}\\hat{L}_\\mu\\hat{\\rho}\\hat{L}_{\\mu}^\\dagger$$ with $\\hat{H}_{eff} = \\hat{H} - \\frac{i\\hbar}{2}\\sum_{\\mu}\\hat{L}_{\\mu}^\\dagger\\hat{L}_{\\mu}$ and the $\\left[~,~\\right]'$ means we take the Hermitian conjugate of the non-Hermitian Hamiltonian $H_{eff}$ in the commutator. The probability for each possible jump is given by $\\delta p_{\\mu} = \\langle\\psi|\\hat{L}_{\\mu}^\\dagger\\hat{L}_{\\mu}|\\psi\\rangle\\delta t$ with the total jump probability $\\delta p = \\sum_{\\mu}\\delta p_{\\mu}$. \n",
    "\n",
    "The MCWF simulation runs like this: \n",
    "1. Pick a random number $0<\\epsilon<1$.\n",
    "2. Evolve the wavefunction forward in time as $|\\psi(\\delta t)\\rangle = e^{-i\\hat{H}_{eff}\\delta t/\\hbar}|\\psi(0)\\rangle$. When $|\\psi(\\tau)|^2 = \\langle\\psi(0)|e^{\\frac{i}{\\hbar}(\\hat{H}_{eff}^\\dagger-\\hat{H}_{eff})\\tau}|\\psi(0)\\rangle <\\epsilon $, then perform a jump. This is statistically equivalent to saying that when $\\delta p >\\epsilon \\rightarrow$ jump.\n",
    "3. Choose *which* jump with another random number $0<\\eta<1$. The $\\mu$-th jump is taken for $\\delta p_{\\mu}/\\delta p > \\eta$. \n",
    "4. Renormalize, then again look at the decaying norm and jump agaion when the new WF and $\\epsilon$ are at $|\\psi(\\tau_2)|^2 = \\langle\\psi(\\tau)|e^{\\frac{i}{\\hbar}(\\hat{H}_{eff}^\\dagger-\\hat{H}_{eff})\\tau_2}|\\psi(\\tau)\\rangle <\\tilde{\\epsilon}$ Repeat for times $\\tau$ as long out as you want. \n",
    "5. Finally, at the end, $|\\psi(t)\\rangle$ needs to be renormalized at each intermediate time where a jump was not taken. \n",
    "\n",
    "### Specific Example: Spontaneous Emission w/ Zeeman Degeneracy\n",
    "\n",
    "Consider an atom with ground and excited state manifolds $J_{g,e}$ with total angular momentum $F_{e,g} = 1$ and projection along some quantization axis z $m_F = 0,\\pm 1$. States $|F_{e},m_{F_e}\\rangle$ and $|F_{g},m_{F_g}\\rangle$ are connected by electric dipole transitions with $m_{e}-m_{g} = q = 0,\\pm 1$ driven by photons of polarization $\\vec{e}_q$. The jump operators $\\hat{L}_q$ then correspond to emission of a photon with $q = 0$ ($\\pi$ transition) or $q = \\pm 1$ ($\\sigma_{\\pm}$ transitions). The jump operators are then given by \n",
    "$$\\hat{L}_q = \\sqrt{\\Gamma}\\sum_{m_e,m_g}\\langle F_{e},m_e|F_{g},m_g,q\\rangle |F_g,m_g\\rangle\\langle F_e,m_e| = \\sum_{m_e,m_g}\\sqrt{\\Gamma_q}~|F_g,m_g\\rangle\\langle F_e,m_e|$$ where $\\Gamma_q = \\Gamma|\\langle F_e,m_e|F_g,m_g,1_q\\rangle| = \\Gamma C^{J_e,J_g}_{m_e,m_g,1_q}$ is the spontaneous emission rate from $|F_e,m_e\\rangle \\rightarrow |F_g,m_g\\rangle$ by emitting a photon of polarization $q$, determined by the Clebsch-Gordon coefficents $C^{J_e,J_g}_{m_e,m_g,1_q}$."
   ]
  },
  {
   "cell_type": "markdown",
   "metadata": {
    "collapsed": true
   },
   "source": [
    "## Unraveling 1: Quantization Along $\\vec{k} = \\vec{z}$\n",
    "\n",
    "First we suppose that the atom is driven by linearly polarized light with the quantization axis parallel to the momentum axis of the incoming light, $\\vec{k}~||~\\vec{z}$ and polarization along $\\vec{e}_y$. Thus, there is only $\\vec{e}_{\\pm 1}$ ($\\sigma_{\\pm}$) light, not $\\vec{e}_{0}$ ($\\pi$) light, because a transverse wave cannot induce transitions along its direction of propagation. The polarization momentum is related to the axes we have chosen by $\\vec{e}_0 = \\vec{e}_z$ and $\\vec{e}_{\\pm} = \\mp(\\vec{e}_x\\pm i\\vec{e}_y)/\\sqrt{2}$.\n",
    "\n",
    "The Hamiltonian for the coherent drive is given by \n",
    "$$\\hat{H} = -\\Delta_{-1}|g,-1\\rangle\\langle g,-1|-(\\Delta_{-1}-\\Delta_{1})|g,1\\rangle\\langle g,1|-\\frac{\\hbar\\Omega}{2}\\left(\\hat{D}_y+\\hat{D}_y^\\dagger\\right)$$\n",
    "Where $\\Delta_{1,-1}$ are the detunings between the $|e,0\\rangle$ state and $|g,\\pm 1\\rangle$ states, which we will set to zero, and $\\Omega$ is the rabi freqeuncy. The raising and lowering operators $\\hat{D}_y^{(\\dagger)}$ are given by $$\\hat{D}^\\dagger_y = \\sum_{q = 0,\\pm 1}\\hat{D}^\\dagger_q(\\vec{e}_q\\cdot\\vec{e}_y)$$\n",
    "$$\\hat{D}_y = \\sum_{q = 0,\\pm 1}\\hat{D}_q(\\vec{e}_q^*\\cdot\\vec{e}_y)$$\n",
    "\n",
    "We want to study the evolutioon of the population of the dark state using $m_z$ as our quantization axis, given by $$|\\psi_D\\rangle = \\frac{|F_g,m_z=-1\\rangle + |F_g,m_z=+1\\rangle}{\\sqrt{2}},$$ which is uncoupled from the laser due to destructive interference."
   ]
  },
  {
   "cell_type": "code",
   "execution_count": 243,
   "metadata": {
    "collapsed": true
   },
   "outputs": [],
   "source": [
    "#Introduce Parameters, set hbar = 1\n",
    "delta1 = 0; #detuning\n",
    "delta2 = 0;\n",
    "Gamma=1;\n",
    "Omega = 3;#units of Gamma \n",
    "dt = 0.005; #time step"
   ]
  },
  {
   "cell_type": "code",
   "execution_count": 244,
   "metadata": {
    "collapsed": false
   },
   "outputs": [],
   "source": [
    "tarray = np.arange(0,10,dt)"
   ]
  },
  {
   "cell_type": "code",
   "execution_count": 245,
   "metadata": {
    "collapsed": false
   },
   "outputs": [],
   "source": [
    "#Jump Operators\n",
    "D0=np.zeros((6,6),dtype=np.complex)\n",
    "D0[0,3]=1/np.sqrt(2)\n",
    "D0[2,5]=-1/np.sqrt(2)\n",
    "\n",
    "D1=np.zeros((6,6),dtype=np.complex)\n",
    "D1[1,3]=-1/np.sqrt(2)\n",
    "D1[2,4]=-1/np.sqrt(2)\n",
    "\n",
    "Dm1=np.zeros((6,6),dtype=np.complex)\n",
    "Dm1[0,4]=1/np.sqrt(2)\n",
    "Dm1[1,5]=1/np.sqrt(2)\n",
    "\n",
    "Jump0=np.dot(np.conj(D0).T,D0)\n",
    "Jump1=np.dot(np.conj(D1).T,D1)\n",
    "Jumpm1=np.dot(np.conj(Dm1).T,Dm1)"
   ]
  },
  {
   "cell_type": "code",
   "execution_count": 246,
   "metadata": {
    "collapsed": true
   },
   "outputs": [],
   "source": [
    "Dy = 1j/np.sqrt(2)*(Dm1+D1)"
   ]
  },
  {
   "cell_type": "code",
   "execution_count": 247,
   "metadata": {
    "collapsed": false
   },
   "outputs": [],
   "source": [
    "H=-Omega/2*(np.conj(Dy).T+Dy)"
   ]
  },
  {
   "cell_type": "code",
   "execution_count": 248,
   "metadata": {
    "collapsed": false
   },
   "outputs": [],
   "source": [
    "Heff=H-1j*Gamma/2*(np.dot(np.conj(D0).T,D0)+np.dot(np.conj(D1).T,D1)+np.dot(np.conj(Dm1).T,Dm1))"
   ]
  },
  {
   "cell_type": "code",
   "execution_count": 249,
   "metadata": {
    "collapsed": false
   },
   "outputs": [],
   "source": [
    "psiDark=np.zeros((1,6),dtype=np.complex).T\n",
    "psiDark[0,0]=1\n",
    "psiDark[2,0]=1\n",
    "norm=np.linalg.norm(psiDark)#normalize\n",
    "psiDark=psiDark/norm"
   ]
  },
  {
   "cell_type": "code",
   "execution_count": 250,
   "metadata": {
    "collapsed": false
   },
   "outputs": [],
   "source": [
    "psiinit=np.zeros((1,6),dtype=np.complex).T\n",
    "psiinit[2,0]=1\n",
    "norm=np.linalg.norm(psiinit)#normalize\n",
    "psiinit=psiinit/norm"
   ]
  },
  {
   "cell_type": "code",
   "execution_count": 251,
   "metadata": {
    "collapsed": false
   },
   "outputs": [],
   "source": [
    "psiup=np.zeros((1,6),dtype=np.complex).T\n",
    "psiup[4,0]=1\n",
    "norm=np.linalg.norm(psiup)#normalize\n",
    "psiup=psiup/norm"
   ]
  },
  {
   "cell_type": "code",
   "execution_count": 308,
   "metadata": {
    "collapsed": false
   },
   "outputs": [],
   "source": [
    "epsilon = np.random.rand(1)[0];"
   ]
  },
  {
   "cell_type": "code",
   "execution_count": 309,
   "metadata": {
    "collapsed": false
   },
   "outputs": [
    {
     "data": {
      "text/plain": [
       "0.29657438105794121"
      ]
     },
     "execution_count": 309,
     "metadata": {},
     "output_type": "execute_result"
    }
   ],
   "source": [
    "epsilon"
   ]
  },
  {
   "cell_type": "code",
   "execution_count": 310,
   "metadata": {
    "collapsed": true
   },
   "outputs": [],
   "source": [
    "wf=psiinit;\n",
    "dp=np.linalg.norm(wf)**2"
   ]
  },
  {
   "cell_type": "code",
   "execution_count": 311,
   "metadata": {
    "collapsed": true
   },
   "outputs": [],
   "source": [
    "wfarray=[];\n",
    "dparray=[];"
   ]
  },
  {
   "cell_type": "code",
   "execution_count": 312,
   "metadata": {
    "collapsed": true
   },
   "outputs": [],
   "source": [
    "#Step 2: if decaying norm is less than epsilon, we jump and then renormalize. How we pick which jump to do?\n",
    "#projection onto excited state manifold for current WF\n",
    "pjump=np.absolute(np.dot(np.conj(wftest).T,np.dot(Jump0+Jump1+Jumpm1,wftest))[0,0])*dt\n",
    "#individual jump probabilities\n",
    "pjump0=np.absolute(np.dot(np.conj(wftest).T,np.dot(Jump0,wftest))[0,0])*dt\n",
    "pjump1=np.absolute(np.dot(np.conj(wftest).T,np.dot(Jump1,wftest))[0,0])*dt\n",
    "pjumpm1=np.absolute(np.dot(np.conj(wftest).T,np.dot(Jumpm1,wftest))[0,0])*dt"
   ]
  },
  {
   "cell_type": "code",
   "execution_count": 313,
   "metadata": {
    "collapsed": false
   },
   "outputs": [],
   "source": [
    "for el in tarray:\n",
    "    #Step 1: look at the decaying norm of the WF. When it is less than epsilon, jump. DO NOT reassign wf until this happens\n",
    "    wftemp=np.dot(linalg.expm(-1j*Heff*el),wf)\n",
    "    norm=np.linalg.norm(wftemp)\n",
    "    if norm**2<epsilon:\n",
    "        epsilon = np.random.rand(1)[0];#first assign a new epsilon\n",
    "        #Step 2: if decaying norm is less than epsilon, we jump and then renormalize. How we pick which jump to do?\n",
    "        #projection onto excited state manifold for current WF\n",
    "        pjump=np.absolute(np.dot(np.conj(wftemp).T,np.dot(Jump0+Jump1+Jumpm1,wftemp))[0,0])*dt\n",
    "        #individual jump probabilities\n",
    "        pjump0=np.absolute(np.dot(np.conj(wftemp).T,np.dot(Jump0,wftemp))[0,0])*dt\n",
    "        pjump1=np.absolute(np.dot(np.conj(wftemp).T,np.dot(Jump1,wftemp))[0,0])*dt\n",
    "        pjumpm1=np.absolute(np.dot(np.conj(wftemp).T,np.dot(Jumpm1,wftemp))[0,0])*dt\n",
    "        #ratio of each jump probability to the total jump probability\n",
    "        pm1r=pjumpm1/pjump\n",
    "        p1r=pjump1/pjump\n",
    "        p0r=pjump0/pjump\n",
    "        #print(pm1r,p1r,p0r)\n",
    "        #poor man's QM jumps for equal probability options. CHECK ON THIS!!\n",
    "        eta = np.random.rand(1)[0];#generate a new random number to determine which qm jump to take\n",
    "        if eta<p1r:\n",
    "            wftemp=np.dot(D1,wftemp)\n",
    "            norm=np.linalg.norm(wftemp)\n",
    "            wftemp=wftemp/norm\n",
    "            norm=np.linalg.norm(wftemp)\n",
    "        else:\n",
    "            wftemp=np.dot(Dm1,wftemp)\n",
    "            norm=np.linalg.norm(wftemp)\n",
    "            wftemp=wftemp/norm\n",
    "            norm=np.linalg.norm(wftemp)\n",
    "    wfarray.append(wftemp)\n",
    "    dparray.append(norm)\n",
    "    #wf=wftemp"
   ]
  },
  {
   "cell_type": "code",
   "execution_count": 313,
   "metadata": {
    "collapsed": false
   },
   "outputs": [],
   "source": [
    "for el in tarray:\n",
    "    #Step 1: look at the decaying norm of the WF. When it is less than epsilon, jump.\n",
    "    wftemp=np.dot(linalg.expm(-1j*Heff*el),wf)\n",
    "    norm=np.linalg.norm(wftemp)\n",
    "    if norm**2<epsilon:\n",
    "        epsilon = np.random.rand(1)[0];#first assign a new epsilon\n",
    "        #Step 2: if decaying norm is less than epsilon, we jump and then renormalize. How we pick which jump to do?\n",
    "        #projection onto excited state manifold for current WF\n",
    "        pjump=np.absolute(np.dot(np.conj(wftemp).T,np.dot(Jump0+Jump1+Jumpm1,wftemp))[0,0])*dt\n",
    "        #individual jump probabilities\n",
    "        pjump0=np.absolute(np.dot(np.conj(wftemp).T,np.dot(Jump0,wftemp))[0,0])*dt\n",
    "        pjump1=np.absolute(np.dot(np.conj(wftemp).T,np.dot(Jump1,wftemp))[0,0])*dt\n",
    "        pjumpm1=np.absolute(np.dot(np.conj(wftemp).T,np.dot(Jumpm1,wftemp))[0,0])*dt\n",
    "        #ratio of each jump probability to the total jump probability\n",
    "        pm1r=pjumpm1/pjump\n",
    "        p1r=pjump1/pjump\n",
    "        p0r=pjump0/pjump\n",
    "        #print(pm1r,p1r,p0r)\n",
    "        #poor man's QM jumps for equal probability options. CHECK ON THIS!!\n",
    "        eta = np.random.rand(1)[0];#generate a new random number to determine which qm jump to take\n",
    "        if eta<p1r:\n",
    "            wftemp=np.dot(D1,wftemp)\n",
    "            norm=np.linalg.norm(wftemp)\n",
    "            wftemp=wftemp/norm\n",
    "            norm=np.linalg.norm(wftemp)\n",
    "        else:\n",
    "            wftemp=np.dot(Dm1,wftemp)\n",
    "            norm=np.linalg.norm(wftemp)\n",
    "            wftemp=wftemp/norm\n",
    "            norm=np.linalg.norm(wftemp)\n",
    "    wfarray.append(wftemp)\n",
    "    dparray.append(norm)\n",
    "    wf=wftemp"
   ]
  },
  {
   "cell_type": "markdown",
   "metadata": {},
   "source": [
    "Herein lies the issue, if each possible jump is equally probably, how to we choose which one to do? Based on some other random number?"
   ]
  },
  {
   "cell_type": "code",
   "execution_count": 314,
   "metadata": {
    "collapsed": true
   },
   "outputs": [],
   "source": [
    "#Go back and normalize all the wafefunctions\n",
    "for i in range(0,len(wfarray)):\n",
    "    norm=np.linalg.norm(wfarray[i])\n",
    "    wfarray[i]=wfarray[i]/norm"
   ]
  },
  {
   "cell_type": "code",
   "execution_count": 315,
   "metadata": {
    "collapsed": false
   },
   "outputs": [],
   "source": [
    "pD=np.zeros(len(wfarray));#Dark state overlap\n",
    "pE=np.zeros(len(wfarray));#Excited State mz = 0 overlap\n",
    "wfa=np.array(wfarray);\n",
    "for i in range(0,len(wfarray)):\n",
    "    pD[i]=np.absolute(np.dot(psiDark.T,wfarray[i]))[0,0]**2\n",
    "    pE[i]=np.absolute(np.dot(psiup.T,wfarray[i]))[0,0]**2"
   ]
  },
  {
   "cell_type": "code",
   "execution_count": 316,
   "metadata": {
    "collapsed": false
   },
   "outputs": [
    {
     "data": {
      "image/png": "[encoded data removed]",
      "text/plain": [
       "<matplotlib.figure.Figure at 0x1173920b8>"
      ]
     },
     "metadata": {},
     "output_type": "display_data"
    }
   ],
   "source": [
    "fig = plt.figure(figsize = (1.5*3.38,1.5*2))  \n",
    "ax = fig.add_subplot(111)\n",
    "ax.plot(list(tarray[0:len(pD)]),pD,color='k',label='Jumps')\n",
    "#ax.plot(list(tarray[0:len(pD)]),pE,color='b',label='Jumps')\n",
    "ax.set_xlim([0,2])\n",
    "ax.set_ylim([0,1.05])\n",
    "ax.set_xlabel(r'$t$',fontsize=12)\n",
    "ax.set_ylabel(r'$|P_D|^2$',fontsize=12)\n",
    "#ax.legend(loc='lower right',ncol=2,title=r'',fontsize=10)\n",
    "plt.show()"
   ]
  },
  {
   "cell_type": "code",
   "execution_count": null,
   "metadata": {
    "collapsed": true
   },
   "outputs": [],
   "source": []
  }
 ],
 "metadata": {
  "anaconda-cloud": {},
  "kernelspec": {
   "display_name": "Python [Root]",
   "language": "python",
   "name": "Python [Root]"
  },
  "language_info": {
   "codemirror_mode": {
    "name": "ipython",
    "version": 3
   },
   "file_extension": ".py",
   "mimetype": "text/x-python",
   "name": "python",
   "nbconvert_exporter": "python",
   "pygments_lexer": "ipython3",
   "version": "3.5.2"
  }
 },
 "nbformat": 4,
 "nbformat_minor": 0
}
