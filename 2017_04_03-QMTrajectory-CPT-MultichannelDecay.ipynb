{
 "cells": [
  {
   "cell_type": "code",
   "execution_count": 1,
   "metadata": {
    "collapsed": true
   },
   "outputs": [],
   "source": [
    "import numpy as np\n",
    "from scipy import linalg\n",
    "import matplotlib.pyplot as plt\n",
    "%matplotlib inline\n",
    "import itertools"
   ]
  },
  {
   "cell_type": "markdown",
   "metadata": {
    "collapsed": true
   },
   "source": [
    "# Quantum Trajectories Simulation of Multilevel Driven-Dissipative system: Different Unravelings of the Master Equation"
   ]
  },
  {
   "cell_type": "markdown",
   "metadata": {},
   "source": [
    "## Model and Motivation \n",
    "\n",
    "### General Concepts\n",
    "\n",
    "The goal of this notebook is to use a simple model of a driven-dissipative system with multiple jump operators to understand how the quantum trajectories formalism applies to this case. In particular, multiple jump operators allows for the idea of different \"unravelings\" of the master equation to occur - wherein we can probe the system using differen sets of POVMs or Kraus operators. In this case, we will consider Coherent Population Trapping (CPT), i.e. population of a dark state, in a two-level system with 3-fold Zeeman degeneracy. The general master equation for a system with multiple Linblad jump operators $\\hat{L}_{\\mu}$ is given by \n",
    "$$\\frac{\\partial \\hat{\\rho}}{\\partial t} = -\\frac{i}{\\hbar}\\left[H_{eff},\\hat{\\rho}\\right]' + \\sum_{\\mu = 1}^{M}\\hat{L}_\\mu\\hat{\\rho}\\hat{L}_{\\mu}^\\dagger$$ with $\\hat{H}_{eff} = \\hat{H} - \\frac{i\\hbar}{2}\\sum_{\\mu}\\hat{L}_{\\mu}^\\dagger\\hat{L}_{\\mu}$ and the $\\left[~,~\\right]'$ means we take the Hermitian conjugate of the non-Hermitian Hamiltonian $H_{eff}$ in the commutator. The probability for each possible jump is given by $\\delta p_{\\mu} = \\langle\\psi|\\hat{L}_{\\mu}^\\dagger\\hat{L}_{\\mu}|\\psi\\rangle\\delta t$ with the total jump probability $\\delta p = \\sum_{\\mu}\\delta p_{\\mu}$. \n",
    "\n",
    "The MCWF simulation runs like this: \n",
    "1. Pick a random number $0<\\epsilon<1$.\n",
    "2. Evolve the wavefunction forward in time as $|\\psi(\\delta t)\\rangle = e^{-i\\hat{H}_{eff}\\delta t/\\hbar}|\\psi(0)\\rangle$. When $|\\psi(\\tau)|^2 = \\langle\\psi(0)|e^{\\frac{i}{\\hbar}(\\hat{H}_{eff}^\\dagger-\\hat{H}_{eff})\\tau}|\\psi(0)\\rangle <\\epsilon $, then perform a jump. This is statistically equivalent to saying that when $\\delta p >\\epsilon \\rightarrow$ jump.\n",
    "3. **Choose *which* jump with another random number $0<\\eta<1$. The $\\mu$-th jump is taken for $\\delta p_{\\mu}/\\delta p > \\eta$**. (not totally clear on this step).\n",
    "4. Renormalize, then again look at the decaying norm and jump agaion when the new WF and $\\epsilon$ are at $|\\psi(\\tau_2)|^2 = \\langle\\psi(\\tau)|e^{\\frac{i}{\\hbar}(\\hat{H}_{eff}^\\dagger-\\hat{H}_{eff})\\tau_2}|\\psi(\\tau)\\rangle <\\tilde{\\epsilon}$ Repeat for times $\\tau$ as long out as you want. \n",
    "5. Finally, at the end, $|\\psi(t)\\rangle$ needs to be renormalized at each intermediate time where a jump was not taken. \n",
    "\n",
    "### Specific Example: Spontaneous Emission w/ Zeeman Degeneracy\n",
    "\n",
    "Consider an atom with ground and excited state manifolds $J_{g,e}$ with total angular momentum $F_{e,g} = 1$ and projection along some quantization axis z $m_F = 0,\\pm 1$. States $|F_{e},m_{F_e}\\rangle$ and $|F_{g},m_{F_g}\\rangle$ are connected by electric dipole transitions with $m_{e}-m_{g} = q = 0,\\pm 1$ driven by photons of polarization $\\vec{e}_q$. The jump operators $\\hat{L}_q$ then correspond to emission of a photon with $q = 0$ ($\\pi$ transition) or $q = \\pm 1$ ($\\sigma_{\\pm}$ transitions). The jump operators are then given by \n",
    "$$\\hat{L}_q = \\sqrt{\\Gamma}\\sum_{m_e,m_g}\\langle F_{e},m_e|F_{g},m_g,q\\rangle |F_g,m_g\\rangle\\langle F_e,m_e| = \\sum_{m_e,m_g}\\sqrt{\\Gamma_q}~|F_g,m_g\\rangle\\langle F_e,m_e|$$ where $\\Gamma_q = \\Gamma|\\langle F_e,m_e|F_g,m_g,1_q\\rangle| = \\Gamma C^{J_e,J_g}_{m_e,m_g,1_q}$ is the spontaneous emission rate from $|F_e,m_e\\rangle \\rightarrow |F_g,m_g\\rangle$ by emitting a photon of polarization $q$, determined by the Clebsch-Gordon coefficents $C^{J_e,J_g}_{m_e,m_g,1_q}$."
   ]
  },
  {
   "cell_type": "markdown",
   "metadata": {
    "collapsed": true
   },
   "source": [
    "## Unraveling 1: Quantization Along $\\vec{k} = \\vec{z}$\n",
    "\n",
    "First we suppose that the atom is driven by linearly polarized light with the quantization axis parallel to the momentum axis of the incoming light, $\\vec{k}~||~\\vec{z}$ and polarization along $\\vec{e}_y$. Thus, there is only $\\vec{e}_{\\pm 1}$ ($\\sigma_{\\pm}$) light, not $\\vec{e}_{0}$ ($\\pi$) light, because a transverse wave cannot induce transitions along its direction of propagation. The polarization momentum is related to the axes we have chosen by $\\vec{e}_0 = \\vec{e}_z$ and $\\vec{e}_{\\pm} = \\mp(\\vec{e}_x\\pm i\\vec{e}_y)/\\sqrt{2}$.\n",
    "\n",
    "The Hamiltonian for the coherent drive is given by \n",
    "$$\\hat{H} = -\\Delta_{-1}|g,-1\\rangle\\langle g,-1|-(\\Delta_{-1}-\\Delta_{1})|g,1\\rangle\\langle g,1|-\\frac{\\hbar\\Omega}{2}\\left(\\hat{D}_y+\\hat{D}_y^\\dagger\\right)$$\n",
    "Where $\\Delta_{1,-1}$ are the detunings between the $|e,0\\rangle$ state and $|g,\\pm 1\\rangle$ states, which we will set to zero, and $\\Omega$ is the rabi freqeuncy. The raising and lowering operators $\\hat{D}_y^{(\\dagger)}$ are given by $$\\hat{D}^\\dagger_y = \\sum_{q = 0,\\pm 1}\\hat{D}^\\dagger_q(\\vec{e}_q\\cdot\\vec{e}_y)$$\n",
    "$$\\hat{D}_y = \\sum_{q = 0,\\pm 1}\\hat{D}_q(\\vec{e}_q^*\\cdot\\vec{e}_y)$$\n",
    "\n",
    "We want to study the evolutioon of the population of the dark state using $m_z$ as our quantization axis, given by $$|\\psi_D\\rangle = \\frac{|F_g,m_z=-1\\rangle + |F_g,m_z=+1\\rangle}{\\sqrt{2}},$$ which is uncoupled from the laser due to destructive interference."
   ]
  },
  {
   "cell_type": "code",
   "execution_count": 430,
   "metadata": {
    "collapsed": true
   },
   "outputs": [],
   "source": [
    "#Introduce Parameters, set hbar = 1\n",
    "delta1 = 0; #detuning\n",
    "delta2 = 0;\n",
    "Gamma=1;\n",
    "Omega = 3;#units of Gamma \n",
    "dt = 0.005; #time step"
   ]
  },
  {
   "cell_type": "code",
   "execution_count": 431,
   "metadata": {
    "collapsed": false
   },
   "outputs": [],
   "source": [
    "tarray = np.arange(0,15,dt)"
   ]
  },
  {
   "cell_type": "code",
   "execution_count": 432,
   "metadata": {
    "collapsed": false
   },
   "outputs": [],
   "source": [
    "#Jump Operators\n",
    "D0=np.zeros((6,6),dtype=np.complex)\n",
    "D0[0,3]=1/np.sqrt(2)\n",
    "D0[2,5]=-1/np.sqrt(2)\n",
    "\n",
    "D1=np.zeros((6,6),dtype=np.complex)\n",
    "D1[1,3]=-1/np.sqrt(2)\n",
    "D1[2,4]=-1/np.sqrt(2)\n",
    "\n",
    "Dm1=np.zeros((6,6),dtype=np.complex)\n",
    "Dm1[0,4]=1/np.sqrt(2)\n",
    "Dm1[1,5]=1/np.sqrt(2)\n",
    "\n",
    "Jump0=np.dot(np.conj(D0).T,D0)\n",
    "Jump1=np.dot(np.conj(D1).T,D1)\n",
    "Jumpm1=np.dot(np.conj(Dm1).T,Dm1)"
   ]
  },
  {
   "cell_type": "code",
   "execution_count": 433,
   "metadata": {
    "collapsed": true
   },
   "outputs": [],
   "source": [
    "Dy = 1j/np.sqrt(2)*(Dm1+D1)"
   ]
  },
  {
   "cell_type": "code",
   "execution_count": 434,
   "metadata": {
    "collapsed": false
   },
   "outputs": [],
   "source": [
    "H=-Omega/2*(np.conj(Dy).T+Dy)"
   ]
  },
  {
   "cell_type": "code",
   "execution_count": 435,
   "metadata": {
    "collapsed": false
   },
   "outputs": [],
   "source": [
    "Heff=H-1j*Gamma/2*(np.dot(np.conj(D0).T,D0)+np.dot(np.conj(D1).T,D1)+np.dot(np.conj(Dm1).T,Dm1))"
   ]
  },
  {
   "cell_type": "code",
   "execution_count": 436,
   "metadata": {
    "collapsed": false
   },
   "outputs": [],
   "source": [
    "psiDark=np.zeros((1,6),dtype=np.complex).T\n",
    "psiDark[0,0]=1\n",
    "psiDark[2,0]=1\n",
    "norm=np.linalg.norm(psiDark)#normalize\n",
    "psiDark=psiDark/norm"
   ]
  },
  {
   "cell_type": "code",
   "execution_count": 449,
   "metadata": {
    "collapsed": false
   },
   "outputs": [],
   "source": [
    "#Initialize in |g,mz=-1>\n",
    "psiinit=np.zeros((1,6),dtype=np.complex).T\n",
    "psiinit[2,0]=1\n",
    "norm=np.linalg.norm(psiinit)#normalize\n",
    "psiinit=psiinit/norm"
   ]
  },
  {
   "cell_type": "code",
   "execution_count": 450,
   "metadata": {
    "collapsed": false
   },
   "outputs": [],
   "source": [
    "psiup=np.zeros((1,6),dtype=np.complex).T\n",
    "psiup[4,0]=1\n",
    "norm=np.linalg.norm(psiup)#normalize\n",
    "psiup=psiup/norm"
   ]
  },
  {
   "cell_type": "markdown",
   "metadata": {},
   "source": [
    "### Single Trajectory"
   ]
  },
  {
   "cell_type": "code",
   "execution_count": 677,
   "metadata": {
    "collapsed": false
   },
   "outputs": [],
   "source": [
    "epsilon = np.random.rand(1)[0];"
   ]
  },
  {
   "cell_type": "code",
   "execution_count": 678,
   "metadata": {
    "collapsed": false
   },
   "outputs": [
    {
     "data": {
      "text/plain": [
       "0.77551217717960785"
      ]
     },
     "execution_count": 678,
     "metadata": {},
     "output_type": "execute_result"
    }
   ],
   "source": [
    "epsilon"
   ]
  },
  {
   "cell_type": "code",
   "execution_count": 679,
   "metadata": {
    "collapsed": true
   },
   "outputs": [],
   "source": [
    "wf=psiinit;\n",
    "dp=np.linalg.norm(wf)**2"
   ]
  },
  {
   "cell_type": "code",
   "execution_count": 680,
   "metadata": {
    "collapsed": true
   },
   "outputs": [],
   "source": [
    "wfarray=[];\n",
    "dparray=[];"
   ]
  },
  {
   "cell_type": "code",
   "execution_count": 681,
   "metadata": {
    "collapsed": true
   },
   "outputs": [],
   "source": [
    "t0=0;"
   ]
  },
  {
   "cell_type": "code",
   "execution_count": 682,
   "metadata": {
    "collapsed": false
   },
   "outputs": [
    {
     "name": "stdout",
     "output_type": "stream",
     "text": [
      "0.795284339192\n",
      "0.735382671073\n",
      "0.0147802213\n"
     ]
    }
   ],
   "source": [
    "for el in tarray:\n",
    "    #Step 1: look at the decaying norm of the WF. When it is less than epsilon, jump. DO NOT reassign wf until this happens\n",
    "    wftemp=np.dot(linalg.expm(-1j*Heff*(el-t0)),wf)\n",
    "    norm=np.linalg.norm(wftemp)\n",
    "    if norm**2<epsilon:\n",
    "        epsilon=np.random.rand(1)[0];\n",
    "        t0=el;\n",
    "        print(epsilon)\n",
    "        #Step 2: if decaying norm is less than epsilon, we jump and then renormalize. How we pick which jump to do?\n",
    "        #projection onto excited state manifold for current WF\n",
    "        pjump=np.absolute(np.dot(np.conj(wftemp).T,np.dot(Jump0+Jump1+Jumpm1,wftemp))[0,0])*dt\n",
    "        #individual jump probabilities\n",
    "        pjump0=np.absolute(np.dot(np.conj(wftemp).T,np.dot(Jump0,wftemp))[0,0])*dt\n",
    "        pjump1=np.absolute(np.dot(np.conj(wftemp).T,np.dot(Jump1,wftemp))[0,0])*dt\n",
    "        pjumpm1=np.absolute(np.dot(np.conj(wftemp).T,np.dot(Jumpm1,wftemp))[0,0])*dt\n",
    "        #ratio of each jump probability to the total jump probability\n",
    "        pm1r=pjumpm1/pjump\n",
    "        p1r=pjump1/pjump\n",
    "        p0r=pjump0/pjump\n",
    "        #print(pm1r,p1r,p0r) - pm1r and p1r are equal to 1/2, p0r is 0 because that transition is forbidden\n",
    "        #poor man's QM jumps for equal probability options. CHECK ON THIS!! Not clear how to generalize to \n",
    "        #more jump options\n",
    "        eta = np.random.rand(1)[0];#generate a new random number to determine which qm jump to take\n",
    "        if eta<p1r:\n",
    "            wftemp=np.dot(D1,wftemp)\n",
    "            norm=np.linalg.norm(wftemp)\n",
    "            wftemp=wftemp/norm\n",
    "            wf=wftemp\n",
    "            norm=np.linalg.norm(wftemp)\n",
    "        else:\n",
    "            wftemp=np.dot(Dm1,wftemp)\n",
    "            norm=np.linalg.norm(wftemp)\n",
    "            wftemp=wftemp/norm\n",
    "            wf=wftemp\n",
    "            norm=np.linalg.norm(wftemp)\n",
    "    wfarray.append(wftemp)\n",
    "    dparray.append(norm**2)"
   ]
  },
  {
   "cell_type": "code",
   "execution_count": 690,
   "metadata": {
    "collapsed": false
   },
   "outputs": [
    {
     "data": {
      "image/png": "[encoded data removed]",
      "text/plain": [
       "<matplotlib.figure.Figure at 0x1172bb7b8>"
      ]
     },
     "metadata": {},
     "output_type": "display_data"
    }
   ],
   "source": [
    "#getting closer to the correct form... \n",
    "fig1 = plt.figure(figsize = (1.5*3.38,1.5*2))  \n",
    "ax1 = fig1.add_subplot(111)\n",
    "ax1.plot(list(tarray),dparray,color='k',label='Jumps')\n",
    "ax1.set_xlim([0,10])\n",
    "ax1.set_ylim([0,1.05])\n",
    "ax1.set_xlabel(r'$t$',fontsize=12)\n",
    "ax1.set_ylabel(r'$P$ $(\\tau)$',fontsize=12)\n",
    "#ax.legend(loc='lower right',ncol=2,title=r'',fontsize=10)\n",
    "ax1.set_title(r'Decaying Norm for a Single Run')\n",
    "plt.show()"
   ]
  },
  {
   "cell_type": "code",
   "execution_count": 684,
   "metadata": {
    "collapsed": true
   },
   "outputs": [],
   "source": [
    "#Go back and normalize all the wafefunctions\n",
    "for i in range(0,len(wfarray)):\n",
    "    norm=np.linalg.norm(wfarray[i])\n",
    "    wfarray[i]=wfarray[i]/norm"
   ]
  },
  {
   "cell_type": "code",
   "execution_count": 685,
   "metadata": {
    "collapsed": false
   },
   "outputs": [],
   "source": [
    "pD=np.zeros(len(wfarray));#Dark state overlap\n",
    "pE=np.zeros(len(wfarray));#Excited State mz = 0 overlap\n",
    "wfa=np.array(wfarray);\n",
    "for i in range(0,len(wfarray)):\n",
    "    pD[i]=np.absolute(np.dot(np.conj(psiDark).T,wfarray[i]))[0,0]**2\n",
    "    pE[i]=np.absolute(np.dot(np.conj(psiup).T,wfarray[i]))[0,0]**2"
   ]
  },
  {
   "cell_type": "code",
   "execution_count": 691,
   "metadata": {
    "collapsed": false
   },
   "outputs": [
    {
     "data": {
      "image/png": "[encoded data removed]",
      "text/plain": [
       "<matplotlib.figure.Figure at 0x116757ef0>"
      ]
     },
     "metadata": {},
     "output_type": "display_data"
    }
   ],
   "source": [
    "fig2 = plt.figure(figsize = (1.5*3.38,1.5*2))  \n",
    "ax2 = fig2.add_subplot(111)\n",
    "ax2.plot(list(tarray[0:len(pD)]),pD,color='k',label='Dark State')\n",
    "ax2.plot(list(tarray[0:len(pD)]),pE,color='b',label=r'$|$ $e,m_z=0\\rangle$')\n",
    "ax2.set_xlim([0,15])\n",
    "ax2.set_ylim([0,1.05])\n",
    "ax2.set_xlabel(r'$t$',fontsize=12)\n",
    "ax2.set_ylabel(r'$|P_i|^2$',fontsize=12)\n",
    "ax2.legend(loc='best',title=r'',fontsize=10)\n",
    "plt.show()"
   ]
  },
  {
   "cell_type": "markdown",
   "metadata": {},
   "source": [
    "#### Physical Interpretation of trajectory:\n",
    "\n",
    "In this unraveling, we see that the system gets to the dark state via a rotation. That is, the evolution under $H_{eff}$  causes the system to evolve into the dark state, whereas quantum jumps from $|e,m_z=0\\rangle$ project the state onto one of the state $|g,m_z=\\pm 1\\rangle$, thereby decreasing the overlap with the dark state, as we can see in the above figure. Quantum jumps do not explain the evolution of the state into the dark state, rather they prevent it. "
   ]
  },
  {
   "cell_type": "markdown",
   "metadata": {},
   "source": [
    "### Many Trajectories"
   ]
  },
  {
   "cell_type": "code",
   "execution_count": 647,
   "metadata": {
    "collapsed": true
   },
   "outputs": [],
   "source": [
    "tarray = np.arange(0,20,dt)"
   ]
  },
  {
   "cell_type": "code",
   "execution_count": 648,
   "metadata": {
    "collapsed": false
   },
   "outputs": [],
   "source": [
    "nruns=100\n",
    "size=(nruns,)+(len(tarray),)+psiinit.shape"
   ]
  },
  {
   "cell_type": "code",
   "execution_count": 649,
   "metadata": {
    "collapsed": false
   },
   "outputs": [],
   "source": [
    "wfarrayall = np.zeros(size,dtype=np.complex)\n",
    "dparrayall = np.zeros((nruns,)+(len(tarray),))"
   ]
  },
  {
   "cell_type": "code",
   "execution_count": 650,
   "metadata": {
    "collapsed": false
   },
   "outputs": [],
   "source": [
    "for i in range(0,nruns):\n",
    "    wf=psiinit;\n",
    "    dp=np.linalg.norm(wf)**2\n",
    "    wfarraytemp = [];\n",
    "    dparraytemp = [];\n",
    "    epsilon=np.random.rand(1)[0];\n",
    "    t0=0;\n",
    "    for el in tarray:\n",
    "        #Step 1: look at the decaying norm of the WF. When it is less than epsilon, jump. DO NOT reassign wf until this happens\n",
    "        wftemp=np.dot(linalg.expm(-1j*Heff*(el-t0)),wf)\n",
    "        norm=np.linalg.norm(wftemp)\n",
    "        if norm**2<epsilon:\n",
    "            epsilon=np.random.rand(1)[0];\n",
    "            t0=el;\n",
    "            #print(epsilon)\n",
    "            #Step 2: if decaying norm is less than epsilon, we jump and then renormalize. How we pick which jump to do?\n",
    "            #projection onto excited state manifold for current WF\n",
    "            pjump=np.absolute(np.dot(np.conj(wftemp).T,np.dot(Jump0+Jump1+Jumpm1,wftemp))[0,0])*dt\n",
    "            #individual jump probabilities\n",
    "            pjump0=np.absolute(np.dot(np.conj(wftemp).T,np.dot(Jump0,wftemp))[0,0])*dt\n",
    "            pjump1=np.absolute(np.dot(np.conj(wftemp).T,np.dot(Jump1,wftemp))[0,0])*dt\n",
    "            pjumpm1=np.absolute(np.dot(np.conj(wftemp).T,np.dot(Jumpm1,wftemp))[0,0])*dt\n",
    "            #ratio of each jump probability to the total jump probability\n",
    "            pm1r=pjumpm1/pjump\n",
    "            p1r=pjump1/pjump\n",
    "            p0r=pjump0/pjump\n",
    "            #print(pm1r,p1r,p0r) - pm1r and p1r are equal to 1/2, p0r is 0 because that transition is forbidden\n",
    "            #poor man's QM jumps for equal probability options. CHECK ON THIS!! Not clear how to generalize to \n",
    "            #more jump options\n",
    "            eta = np.random.rand(1)[0];#generate a new random number to determine which qm jump to take\n",
    "            if eta<p1r:\n",
    "                wftemp=np.dot(D1,wftemp)\n",
    "                norm=np.linalg.norm(wftemp)\n",
    "                wftemp=wftemp/norm\n",
    "                wf=wftemp\n",
    "                norm=np.linalg.norm(wftemp)\n",
    "            else:\n",
    "                wftemp=np.dot(Dm1,wftemp)\n",
    "                norm=np.linalg.norm(wftemp)\n",
    "                wftemp=wftemp/norm\n",
    "                wf=wftemp\n",
    "                norm=np.linalg.norm(wftemp)\n",
    "        wfarraytemp.append(wftemp)\n",
    "        dparraytemp.append(norm**2)\n",
    "    \n",
    "    #Go back and normalize all the wafefunctions\n",
    "    for j in range(0,len(wfarraytemp)):\n",
    "        norm=np.linalg.norm(wfarraytemp[j])\n",
    "        wfarraytemp[j]=wfarraytemp[j]/norm\n",
    "    \n",
    "    wfarrayall[i]=wfarraytemp\n",
    "    dparrayall[i]=dparraytemp"
   ]
  },
  {
   "cell_type": "code",
   "execution_count": 651,
   "metadata": {
    "collapsed": true
   },
   "outputs": [],
   "source": [
    "pDAll=np.zeros((nruns,len(tarray)));#Dark state probability Array\n",
    "wfa2=np.array(wfarrayall)"
   ]
  },
  {
   "cell_type": "code",
   "execution_count": 652,
   "metadata": {
    "collapsed": false
   },
   "outputs": [],
   "source": [
    "for j in range(0,nruns):\n",
    "    for i in range(0,len(tarray)):\n",
    "        pDAll[j,i]=np.absolute(np.dot(np.conj(psiDark).T,wfa2[j,i])[0,0])**2"
   ]
  },
  {
   "cell_type": "code",
   "execution_count": 659,
   "metadata": {
    "collapsed": true
   },
   "outputs": [],
   "source": [
    "pDAvg = np.zeros(len(tarray));\n",
    "for i in range(0,len(tarray)):\n",
    "    pDAvg[i]=np.mean(pDAll.T[i])"
   ]
  },
  {
   "cell_type": "code",
   "execution_count": 692,
   "metadata": {
    "collapsed": false
   },
   "outputs": [
    {
     "data": {
      "image/png": "[encoded data removed]",
      "text/plain": [
       "<matplotlib.figure.Figure at 0x1174df6a0>"
      ]
     },
     "metadata": {},
     "output_type": "display_data"
    }
   ],
   "source": [
    "fig3 = plt.figure(figsize = (1.5*3.38,1.5*2))  \n",
    "ax3 = fig3.add_subplot(111)\n",
    "ax3.plot(list(tarray),pDAll[0],color='y',linestyle='-',)\n",
    "ax3.plot(list(tarray),pDAll[1],color='b',linestyle='-',label=r'Single Trajectory')\n",
    "ax3.plot(list(tarray),pDAll[45],color='g',linestyle='-')\n",
    "ax3.plot(list(tarray),pDAll[89],color='r',linestyle='-')\n",
    "ax3.plot(list(tarray),pDAvg,color='k',label=r'Average')\n",
    "ax3.set_xlim([0,20])\n",
    "ax3.set_ylim([0,1.05])\n",
    "ax3.set_xlabel(r'$t$',fontsize=12)\n",
    "ax3.set_ylabel(r'$|P_D|^2$',fontsize=12)\n",
    "ax3.set_title(r'$\\mathrm{Multiple}$ $\\mathrm{Trajectories}$')\n",
    "ax3.legend(loc='lower right',title=r'',fontsize=10)\n",
    "plt.show()"
   ]
  },
  {
   "cell_type": "code",
   "execution_count": 695,
   "metadata": {
    "collapsed": false
   },
   "outputs": [
    {
     "data": {
      "image/png": "[encoded data removed]",
      "text/plain": [
       "<matplotlib.figure.Figure at 0x115e58e10>"
      ]
     },
     "metadata": {},
     "output_type": "display_data"
    }
   ],
   "source": [
    "fig4 = plt.figure(figsize = (1.5*3.38,1.5*2))  \n",
    "ax4 = fig4.add_subplot(111)\n",
    "#ax.plot(list(tarray),pDAll[0],color='y',linestyle='--',)\n",
    "#ax.plot(list(tarray),pDAll[1],color='b',linestyle='--',label=r'Single Trajectory')\n",
    "#ax.plot(list(tarray),pDAll[45],color='g',linestyle='--')\n",
    "#ax.plot(list(tarray),pDAll[89],color='r',linestyle='--')\n",
    "ax4.plot(list(tarray),pDAvg,color='k',label=r'Average')\n",
    "ax4.set_xlim([0,20])\n",
    "ax4.set_ylim([0,1.05])\n",
    "ax4.set_xlabel(r'$t$',fontsize=12)\n",
    "ax4.set_ylabel(r'$|P_D|^2$',fontsize=12)\n",
    "ax4.set_title(r'$\\mathrm{Average}$ $\\mathrm{Trajectory}$')\n",
    "ax4.legend(loc='lower right',title=r'',fontsize=10)\n",
    "plt.show()"
   ]
  },
  {
   "cell_type": "markdown",
   "metadata": {},
   "source": [
    "## Unraveling 2: Quantization Axis along $\\vec{e}_y$."
   ]
  },
  {
   "cell_type": "code",
   "execution_count": null,
   "metadata": {
    "collapsed": true
   },
   "outputs": [],
   "source": []
  }
 ],
 "metadata": {
  "anaconda-cloud": {},
  "kernelspec": {
   "display_name": "Python [Root]",
   "language": "python",
   "name": "Python [Root]"
  },
  "language_info": {
   "codemirror_mode": {
    "name": "ipython",
    "version": 3
   },
   "file_extension": ".py",
   "mimetype": "text/x-python",
   "name": "python",
   "nbconvert_exporter": "python",
   "pygments_lexer": "ipython3",
   "version": "3.5.2"
  }
 },
 "nbformat": 4,
 "nbformat_minor": 0
}
