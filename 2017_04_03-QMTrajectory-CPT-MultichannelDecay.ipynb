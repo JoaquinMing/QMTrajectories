{
 "cells": [
  {
   "cell_type": "code",
   "execution_count": 1,
   "metadata": {
    "collapsed": true
   },
   "outputs": [],
   "source": [
    "import numpy as np\n",
    "from scipy import linalg\n",
    "import matplotlib.pyplot as plt\n",
    "%matplotlib inline\n",
    "import itertools"
   ]
  },
  {
   "cell_type": "code",
   "execution_count": 2,
   "metadata": {
    "collapsed": false
   },
   "outputs": [],
   "source": [
    "# %load SpinMatrices.py\n",
    "\"\"\"\n",
    "Created on Wed Apr  5 15:51:46 2017\n",
    "\n",
    "@author: hilaryhurst\n",
    "\"\"\"\n",
    "\n",
    "import numpy as np\n",
    "\n",
    "def SpinMatrices(S):\n",
    "    \"\"\"\n",
    "    This function takes the arguement S which must be integer, \n",
    "    then returns an array of spin matrices Sx, Sy, and Sz based on the \n",
    "    size of S.\n",
    "    \"\"\"\n",
    "    \n",
    "    m=-1*np.arange(-S,S+1,1);\n",
    "    Sz = np.diag(np.diag(np.diag(m)))\n",
    "    SPlusDiag=[];\n",
    "    for n in m:\n",
    "        SPlusDiag.append(np.sqrt(S*(S+1)-n*(n+1)))\n",
    "    SPlus = np.diag(SPlusDiag[1:2*S+1],k=1)\n",
    "    SMinus= SPlus.T\n",
    "    \n",
    "    Sx = (SPlus+SMinus)/2\n",
    "    Sy = -1j*(SPlus-SMinus)/2\n",
    "    \n",
    "    return [Sx,Sy,Sz,SPlus,SMinus]"
   ]
  },
  {
   "cell_type": "markdown",
   "metadata": {
    "collapsed": true
   },
   "source": [
    "# Quantum Trajectories Simulation of Multilevel Driven-Dissipative system: Different Unravelings of the Master Equation"
   ]
  },
  {
   "cell_type": "markdown",
   "metadata": {},
   "source": [
    "## Model and Motivation \n",
    "\n",
    "### General Concepts\n",
    "\n",
    "The goal of this notebook is to use a simple model of a driven-dissipative system with multiple jump operators to understand how the quantum trajectories formalism applies to this case. In particular, multiple jump operators allows for the idea of different \"unravelings\" of the master equation to occur - wherein we can probe the system using differen sets of POVMs or Kraus operators. In this case, we will consider Coherent Population Trapping (CPT), i.e. population of a dark state, in a two-level system with 3-fold Zeeman degeneracy. The general master equation for a system with multiple Linblad jump operators $\\hat{L}_{\\mu}$ is given by \n",
    "$$\\frac{\\partial \\hat{\\rho}}{\\partial t} = -\\frac{i}{\\hbar}\\left[H_{eff},\\hat{\\rho}\\right]' + \\sum_{\\mu = 1}^{M}\\hat{L}_\\mu\\hat{\\rho}\\hat{L}_{\\mu}^\\dagger$$ with $\\hat{H}_{eff} = \\hat{H} - \\frac{i\\hbar}{2}\\sum_{\\mu}\\hat{L}_{\\mu}^\\dagger\\hat{L}_{\\mu}$ and the $\\left[~,~\\right]'$ means we take the Hermitian conjugate of the non-Hermitian Hamiltonian $H_{eff}$ in the commutator. The probability for each possible jump is given by $\\delta p_{\\mu} = \\langle\\psi|\\hat{L}_{\\mu}^\\dagger\\hat{L}_{\\mu}|\\psi\\rangle\\delta t$ with the total jump probability $\\delta p = \\sum_{\\mu}\\delta p_{\\mu}$. \n",
    "\n",
    "The MCWF simulation runs like this: \n",
    "1. Pick a random number $0<\\epsilon<1$.\n",
    "2. Evolve the wavefunction forward in time as $|\\psi(\\delta t)\\rangle = e^{-i\\hat{H}_{eff}\\delta t/\\hbar}|\\psi(0)\\rangle$. When $|\\psi(\\tau)|^2 = \\langle\\psi(0)|e^{\\frac{i}{\\hbar}(\\hat{H}_{eff}^\\dagger-\\hat{H}_{eff})\\tau}|\\psi(0)\\rangle <\\epsilon $, then perform a jump. This is statistically equivalent to saying that when $\\delta p >\\epsilon \\rightarrow$ jump.\n",
    "3. **Choose *which* jump with another random number $0<\\eta<1$. The $\\mu$-th jump is taken for $\\delta p_{\\mu}/\\delta p > \\eta$**. (not totally clear on this step).\n",
    "4. Renormalize, then again look at the decaying norm and jump agaion when the new WF and $\\epsilon$ are at $|\\psi(\\tau_2)|^2 = \\langle\\psi(\\tau)|e^{\\frac{i}{\\hbar}(\\hat{H}_{eff}^\\dagger-\\hat{H}_{eff})\\tau_2}|\\psi(\\tau)\\rangle <\\tilde{\\epsilon}$ Repeat for times $\\tau$ as long out as you want. \n",
    "5. Finally, at the end, $|\\psi(t)\\rangle$ needs to be renormalized at each intermediate time where a jump was not taken. \n",
    "\n",
    "### Specific Example: Spontaneous Emission w/ Zeeman Degeneracy\n",
    "\n",
    "Consider an atom with ground and excited state manifolds $J_{g,e}$ with total angular momentum $F_{e,g} = 1$ and projection along some quantization axis z $m_F = 0,\\pm 1$. States $|F_{e},m_{F_e}\\rangle$ and $|F_{g},m_{F_g}\\rangle$ are connected by electric dipole transitions with $m_{e}-m_{g} = q = 0,\\pm 1$ driven by photons of polarization $\\vec{e}_q$. The jump operators $\\hat{L}_q$ then correspond to emission of a photon with $q = 0$ ($\\pi$ transition) or $q = \\pm 1$ ($\\sigma_{\\pm}$ transitions). The jump operators are then given by \n",
    "$$\\hat{L}_q = \\sqrt{\\Gamma}\\sum_{m_e,m_g}\\langle F_{e},m_e|F_{g},m_g,q\\rangle |F_g,m_g\\rangle\\langle F_e,m_e| = \\sum_{m_e,m_g}\\sqrt{\\Gamma_q}~|F_g,m_g\\rangle\\langle F_e,m_e|$$ where $\\Gamma_q = \\Gamma|\\langle F_e,m_e|F_g,m_g,1_q\\rangle| = \\Gamma C^{J_e,J_g}_{m_e,m_g,1_q}$ is the spontaneous emission rate from $|F_e,m_e\\rangle \\rightarrow |F_g,m_g\\rangle$ by emitting a photon of polarization $q$, determined by the Clebsch-Gordon coefficents $C^{J_e,J_g}_{m_e,m_g,1_q}$."
   ]
  },
  {
   "cell_type": "markdown",
   "metadata": {
    "collapsed": true
   },
   "source": [
    "## Unraveling 1: Quantization Along $\\vec{k} = \\vec{z}$\n",
    "\n",
    "First we suppose that the atom is driven by linearly polarized light with the quantization axis parallel to the momentum axis of the incoming light, $\\vec{k}~||~\\vec{e}_z$ and polarization along $\\vec{e}_y$. Thus, there is only $\\vec{e}_{\\pm 1}$ ($\\sigma_{\\pm}$) light, not $\\vec{e}_{0}$ ($\\pi$) light, because a transverse wave cannot induce transitions along its direction of propagation. The polarization momentum is related to the axes we have chosen by $\\vec{e}_0 = \\vec{e}_z$ and $\\vec{e}_{\\pm} = \\mp(\\vec{e}_x\\pm i\\vec{e}_y)/\\sqrt{2}$.\n",
    "\n",
    "The Hamiltonian for the coherent drive is given by \n",
    "$$\\hat{H} = -\\Delta_{-1}|g,-1\\rangle\\langle g,-1|-(\\Delta_{-1}-\\Delta_{1})|g,1\\rangle\\langle g,1|-\\frac{\\hbar\\Omega}{2}\\left(\\hat{D}_y+\\hat{D}_y^\\dagger\\right)$$\n",
    "Where $\\Delta_{1,-1}$ are the detunings between the $|e,0\\rangle$ state and $|g,\\pm 1\\rangle$ states, which we will set to zero, and $\\Omega$ is the rabi freqeuncy. The raising and lowering operators $\\hat{D}_y^{(\\dagger)}$ are given by $$\\hat{D}^\\dagger_y = \\sum_{q = 0,\\pm 1}\\hat{D}^\\dagger_q(\\vec{e}_q\\cdot\\vec{e}_y) = -\\frac{i}{\\sqrt{2}}(\\hat{D}^\\dagger_1 + \\hat{D}^\\dagger_{-1})$$\n",
    "$$\\hat{D}_y = \\sum_{q = 0,\\pm 1}\\hat{D}_q(\\vec{e}*_q\\cdot\\vec{e}_y) = \\frac{i}{\\sqrt{2}}(\\hat{D}_1 + \\hat{D}_{-1})$$\n",
    "\n",
    "We want to study the evolutioon of the population of the dark state using $m_z$ as our quantization axis, given by $$|\\psi_D\\rangle = \\frac{|F_g,m_z=-1\\rangle + |F_g,m_z=+1\\rangle}{\\sqrt{2}},$$ which is uncoupled from the laser due to destructive interference."
   ]
  },
  {
   "cell_type": "code",
   "execution_count": 3,
   "metadata": {
    "collapsed": true
   },
   "outputs": [],
   "source": [
    "S = 1"
   ]
  },
  {
   "cell_type": "code",
   "execution_count": 4,
   "metadata": {
    "collapsed": false
   },
   "outputs": [],
   "source": [
    "Sx, Sy, Sz, Sp, Sm = SpinMatrices(S)#Zeeman sublevel space\n",
    "taux = np.array([[0,1],[1,0]]);#Excited Manifold/Ground Manifold space\n",
    "tauM = np.array([[0,1],[0,0]]);#Excited Manifold/Ground Manifold Lowering\n",
    "tauP = np.array([[0,0],[1,0]]);#Excited Manifold/Ground Manifold Raising"
   ]
  },
  {
   "cell_type": "code",
   "execution_count": 5,
   "metadata": {
    "collapsed": true
   },
   "outputs": [],
   "source": [
    "def Rot(theta0,axis0):\n",
    "    rot = linalg.expm(-1j*theta0*axis0);\n",
    "    return rot"
   ]
  },
  {
   "cell_type": "code",
   "execution_count": 6,
   "metadata": {
    "collapsed": true
   },
   "outputs": [],
   "source": [
    "theta = -np.pi/2"
   ]
  },
  {
   "cell_type": "code",
   "execution_count": 7,
   "metadata": {
    "collapsed": true
   },
   "outputs": [],
   "source": [
    "rotM = Rot(theta,Sx);"
   ]
  },
  {
   "cell_type": "code",
   "execution_count": 8,
   "metadata": {
    "collapsed": true
   },
   "outputs": [],
   "source": [
    "#Introduce Parameters, set hbar = 1\n",
    "delta1 = 0; #detuning\n",
    "delta2 = 0;\n",
    "Gamma=1;\n",
    "Omega = 5;#units of Gamma \n",
    "dt = 0.005; #time step"
   ]
  },
  {
   "cell_type": "code",
   "execution_count": 9,
   "metadata": {
    "collapsed": false
   },
   "outputs": [],
   "source": [
    "tarray = np.arange(0,20,dt)"
   ]
  },
  {
   "cell_type": "code",
   "execution_count": 10,
   "metadata": {
    "collapsed": false
   },
   "outputs": [],
   "source": [
    "#Formulated in Terms of Spin Matrices - May be a more efficient way to scale this up.\n",
    "D02=np.kron(tauM,Sz)\n",
    "D12=np.kron(tauM,-1/np.sqrt(2)*Sm)#1/np.sqrt(2) from Clebsch-Gordon\n",
    "Dm12=np.kron(tauM,1/np.sqrt(2)*Sp)\n",
    "\n",
    "Jump0=np.dot(np.conj(D02).T,D02)\n",
    "Jump1=np.dot(np.conj(D12).T,D12)\n",
    "Jumpm1=np.dot(np.conj(Dm12).T,Dm12)"
   ]
  },
  {
   "cell_type": "code",
   "execution_count": 94,
   "metadata": {
    "collapsed": false
   },
   "outputs": [],
   "source": [
    "Dy = 1j/np.sqrt(2)*(Dm12+D12)#1/np.sqrt(2) from Polarization Vectors dot product"
   ]
  },
  {
   "cell_type": "code",
   "execution_count": 95,
   "metadata": {
    "collapsed": false
   },
   "outputs": [],
   "source": [
    "H=-Omega/2*(np.conj(Dy).T+Dy)"
   ]
  },
  {
   "cell_type": "code",
   "execution_count": 96,
   "metadata": {
    "collapsed": false
   },
   "outputs": [],
   "source": [
    "Heff=H-1j*Gamma/2*(np.dot(np.conj(D02).T,D02)+np.dot(np.conj(D12).T,D12)+np.dot(np.conj(Dm12).T,Dm12))"
   ]
  },
  {
   "cell_type": "code",
   "execution_count": 97,
   "metadata": {
    "collapsed": false
   },
   "outputs": [],
   "source": [
    "psiDark=np.zeros((1,6),dtype=np.complex).T\n",
    "psiDark[0,0]=1\n",
    "psiDark[2,0]=1\n",
    "norm=np.linalg.norm(psiDark)#normalize\n",
    "psiDark=psiDark/norm"
   ]
  },
  {
   "cell_type": "code",
   "execution_count": 98,
   "metadata": {
    "collapsed": false
   },
   "outputs": [],
   "source": [
    "#Initialize in |g,mz=-1>\n",
    "psiinit=np.zeros((1,6),dtype=np.complex).T\n",
    "psiinit[2,0]=1\n",
    "norm=np.linalg.norm(psiinit)#normalize\n",
    "psiinit=psiinit/norm"
   ]
  },
  {
   "cell_type": "code",
   "execution_count": 99,
   "metadata": {
    "collapsed": false
   },
   "outputs": [],
   "source": [
    "#|e,mz = 0> state, for comparison of excited state population\n",
    "psiup=np.zeros((1,6),dtype=np.complex).T\n",
    "psiup[4,0]=1\n",
    "norm=np.linalg.norm(psiup)#normalize\n",
    "psiup=psiup/norm"
   ]
  },
  {
   "cell_type": "markdown",
   "metadata": {},
   "source": [
    "### Single Trajectory"
   ]
  },
  {
   "cell_type": "code",
   "execution_count": 150,
   "metadata": {
    "collapsed": false
   },
   "outputs": [
    {
     "data": {
      "text/plain": [
       "0.64647587919214655"
      ]
     },
     "execution_count": 150,
     "metadata": {},
     "output_type": "execute_result"
    }
   ],
   "source": [
    "epsilon = np.random.rand(1)[0];\n",
    "epsilon"
   ]
  },
  {
   "cell_type": "code",
   "execution_count": 151,
   "metadata": {
    "collapsed": true
   },
   "outputs": [],
   "source": [
    "wf=psiinit;"
   ]
  },
  {
   "cell_type": "code",
   "execution_count": 152,
   "metadata": {
    "collapsed": true
   },
   "outputs": [],
   "source": [
    "wfarray=[];\n",
    "dparray=[];"
   ]
  },
  {
   "cell_type": "code",
   "execution_count": 153,
   "metadata": {
    "collapsed": true
   },
   "outputs": [],
   "source": [
    "t0=0;"
   ]
  },
  {
   "cell_type": "code",
   "execution_count": 154,
   "metadata": {
    "collapsed": false
   },
   "outputs": [
    {
     "name": "stdout",
     "output_type": "stream",
     "text": [
      "0.809327267196\n",
      "0.0504049203959\n"
     ]
    }
   ],
   "source": [
    "for el in tarray:\n",
    "    #Step 1: look at the decaying norm of the WF. When it is less than epsilon, jump. \n",
    "    #DO NOT reassign wf until this happens\n",
    "    wftemp=np.dot(linalg.expm(-1j*Heff*(el-t0)),wf)\n",
    "    norm=np.linalg.norm(wftemp)\n",
    "    if norm**2<epsilon:\n",
    "        epsilon=np.random.rand(1)[0];\n",
    "        t0=el;\n",
    "        print(epsilon)\n",
    "        #Step 2: if decaying norm is less than epsilon, we jump and then renormalize. How we pick which jump to do?\n",
    "        #projection onto excited state manifold for current WF\n",
    "        pjump=np.absolute(np.dot(np.conj(wftemp).T,np.dot(Jump0+Jump1+Jumpm1,wftemp))[0,0])*dt\n",
    "        #individual jump probabilities\n",
    "        pjump0=np.absolute(np.dot(np.conj(wftemp).T,np.dot(Jump0,wftemp))[0,0])*dt\n",
    "        pjump1=np.absolute(np.dot(np.conj(wftemp).T,np.dot(Jump1,wftemp))[0,0])*dt\n",
    "        pjumpm1=np.absolute(np.dot(np.conj(wftemp).T,np.dot(Jumpm1,wftemp))[0,0])*dt\n",
    "        #ratio of each jump probability to the total jump probability\n",
    "        pm1r=pjumpm1/pjump\n",
    "        p1r=pjump1/pjump\n",
    "        p0r=pjump0/pjump\n",
    "        #print(pm1r,p1r,p0r) - pm1r and p1r are equal to 1/2, p0r is 0 because that transition is forbidden\n",
    "        #poor man's QM jumps for equal probability options.\n",
    "        eta = np.random.rand(1)[0];#generate a new random number to determine which qm jump to take\n",
    "        if eta<p1r:\n",
    "            wftemp=np.dot(D1,wftemp)\n",
    "            norm=np.linalg.norm(wftemp)\n",
    "            wftemp=wftemp/norm\n",
    "            wf=wftemp\n",
    "            norm=np.linalg.norm(wftemp)\n",
    "        else:\n",
    "            wftemp=np.dot(Dm1,wftemp)\n",
    "            norm=np.linalg.norm(wftemp)\n",
    "            wftemp=wftemp/norm\n",
    "            wf=wftemp\n",
    "            norm=np.linalg.norm(wftemp)\n",
    "    wfarray.append(wftemp)\n",
    "    dparray.append(norm**2)"
   ]
  },
  {
   "cell_type": "code",
   "execution_count": 155,
   "metadata": {
    "collapsed": false
   },
   "outputs": [
    {
     "data": {
      "image/png": "[encoded data removed]",
      "text/plain": [
       "<matplotlib.figure.Figure at 0x116a750b8>"
      ]
     },
     "metadata": {},
     "output_type": "display_data"
    }
   ],
   "source": [
    "fig1 = plt.figure(figsize = (1.5*3.38,1.5*2))  \n",
    "ax1 = fig1.add_subplot(111)\n",
    "ax1.plot(list(tarray),dparray,color='k',label='Jumps')\n",
    "ax1.set_xlim([0,10])\n",
    "ax1.set_ylim([0,1.05])\n",
    "ax1.set_xlabel(r'$t$',fontsize=12)\n",
    "ax1.set_ylabel(r'$P$ $(\\tau)$',fontsize=12)\n",
    "ax1.set_title(r'Decaying Norm for a Single Run')\n",
    "plt.show()"
   ]
  },
  {
   "cell_type": "code",
   "execution_count": 156,
   "metadata": {
    "collapsed": true
   },
   "outputs": [],
   "source": [
    "#Go back and normalize all the wafefunctions\n",
    "for i in range(0,len(wfarray)):\n",
    "    norm=np.linalg.norm(wfarray[i])\n",
    "    wfarray[i]=wfarray[i]/norm"
   ]
  },
  {
   "cell_type": "code",
   "execution_count": 157,
   "metadata": {
    "collapsed": false
   },
   "outputs": [],
   "source": [
    "pD=np.zeros(len(wfarray));#Dark state overlap\n",
    "pE=np.zeros(len(wfarray));#Excited State mz = 0 overlap\n",
    "wfa=np.array(wfarray);\n",
    "for i in range(0,len(wfarray)):\n",
    "    pD[i]=np.absolute(np.dot(np.conj(psiDark).T,wfarray[i]))[0,0]**2\n",
    "    pE[i]=np.absolute(np.dot(np.conj(psiup).T,wfarray[i]))[0,0]**2"
   ]
  },
  {
   "cell_type": "code",
   "execution_count": 158,
   "metadata": {
    "collapsed": false
   },
   "outputs": [
    {
     "data": {
      "image/png": "[encoded data removed]",
      "text/plain": [
       "<matplotlib.figure.Figure at 0x11c1855f8>"
      ]
     },
     "metadata": {},
     "output_type": "display_data"
    }
   ],
   "source": [
    "fig2 = plt.figure(figsize = (1.5*3.38,1.5*2))  \n",
    "ax2 = fig2.add_subplot(111)\n",
    "ax2.plot(list(tarray),pD,color='k',label='Dark State')\n",
    "ax2.plot(list(tarray),pE,color='b',label=r'$|$ $e,m_z=0\\rangle$')\n",
    "ax2.set_xlim([0,20])\n",
    "ax2.set_ylim([0,1.05])\n",
    "ax2.set_xlabel(r'$t$',fontsize=12)\n",
    "ax2.set_ylabel(r'$|P_i|^2$',fontsize=12)\n",
    "ax2.legend(loc='best',title=r'',fontsize=10)\n",
    "plt.show()"
   ]
  },
  {
   "cell_type": "markdown",
   "metadata": {},
   "source": [
    "#### Physical Interpretation of trajectory:\n",
    "\n",
    "In this unraveling, we see that the system gets to the dark state via a rotation. That is, the evolution under $H_{eff}$  causes the system to evolve into the dark state, whereas quantum jumps from $|e,m_z=0\\rangle$ project the state onto one of the state $|g,m_z=\\pm 1\\rangle$, thereby decreasing the overlap with the dark state, as we can see in the above figure. Quantum jumps do not explain the evolution of the state into the dark state, rather they prevent it. "
   ]
  },
  {
   "cell_type": "markdown",
   "metadata": {},
   "source": [
    "### Many Trajectories"
   ]
  },
  {
   "cell_type": "code",
   "execution_count": 111,
   "metadata": {
    "collapsed": true
   },
   "outputs": [],
   "source": [
    "tarray = np.arange(0,20,dt)"
   ]
  },
  {
   "cell_type": "code",
   "execution_count": 112,
   "metadata": {
    "collapsed": false
   },
   "outputs": [],
   "source": [
    "nruns=100\n",
    "size=(nruns,)+(len(tarray),)+psiinit.shape"
   ]
  },
  {
   "cell_type": "code",
   "execution_count": 113,
   "metadata": {
    "collapsed": false
   },
   "outputs": [],
   "source": [
    "wfarrayall = np.zeros(size,dtype=np.complex)\n",
    "dparrayall = np.zeros((nruns,)+(len(tarray),))"
   ]
  },
  {
   "cell_type": "code",
   "execution_count": 114,
   "metadata": {
    "collapsed": false
   },
   "outputs": [],
   "source": [
    "for i in range(0,nruns):\n",
    "    wf=psiinit;\n",
    "    dp=np.linalg.norm(wf)**2\n",
    "    wfarraytemp = [];\n",
    "    dparraytemp = [];\n",
    "    epsilon=np.random.rand(1)[0];\n",
    "    t0=0;\n",
    "    for el in tarray:\n",
    "        #Step 1: look at the decaying norm of the WF. When it is less than epsilon, jump. \n",
    "        #DO NOT reassign wf until this happens\n",
    "        wftemp=np.dot(linalg.expm(-1j*Heff*(el-t0)),wf)\n",
    "        norm=np.linalg.norm(wftemp)\n",
    "        if norm**2<epsilon:\n",
    "            epsilon=np.random.rand(1)[0];\n",
    "            t0=el;\n",
    "            #print(epsilon) if you want to know how many jumps you have\n",
    "            #Step 2: if decaying norm is less than epsilon, we jump and then renormalize. How we pick which jump to do?\n",
    "            #projection onto excited state manifold for current WF\n",
    "            pjump=np.absolute(np.dot(np.conj(wftemp).T,np.dot(Jump0+Jump1+Jumpm1,wftemp))[0,0])*dt\n",
    "            #individual jump probabilities\n",
    "            pjump0=np.absolute(np.dot(np.conj(wftemp).T,np.dot(Jump0,wftemp))[0,0])*dt\n",
    "            pjump1=np.absolute(np.dot(np.conj(wftemp).T,np.dot(Jump1,wftemp))[0,0])*dt\n",
    "            pjumpm1=np.absolute(np.dot(np.conj(wftemp).T,np.dot(Jumpm1,wftemp))[0,0])*dt\n",
    "            #ratio of each jump probability to the total jump probability\n",
    "            pm1r=pjumpm1/pjump\n",
    "            p1r=pjump1/pjump\n",
    "            p0r=pjump0/pjump\n",
    "            #print(pm1r,p1r,p0r) - pm1r and p1r are equal to 1/2, p0r is 0 because that transition is forbidden\n",
    "            #poor man's QM jumps for equal probability options. Not clear how to generalize to more jump options\n",
    "            eta = np.random.rand(1)[0];#generate a new random number to determine which qm jump to take\n",
    "            if eta<p1r:\n",
    "                wftemp=np.dot(D1,wftemp)\n",
    "                norm=np.linalg.norm(wftemp)\n",
    "                wftemp=wftemp/norm\n",
    "                wf=wftemp\n",
    "                norm=np.linalg.norm(wftemp)\n",
    "            else:\n",
    "                wftemp=np.dot(Dm1,wftemp)\n",
    "                norm=np.linalg.norm(wftemp)\n",
    "                wftemp=wftemp/norm\n",
    "                wf=wftemp\n",
    "                norm=np.linalg.norm(wftemp)\n",
    "        wfarraytemp.append(wftemp)\n",
    "        dparraytemp.append(norm**2)\n",
    "    \n",
    "    #Go back and normalize all the wafefunctions\n",
    "    for j in range(0,len(wfarraytemp)):\n",
    "        norm=np.linalg.norm(wfarraytemp[j])\n",
    "        wfarraytemp[j]=wfarraytemp[j]/norm\n",
    "    \n",
    "    #assign to a big array \n",
    "    wfarrayall[i]=wfarraytemp\n",
    "    dparrayall[i]=dparraytemp"
   ]
  },
  {
   "cell_type": "code",
   "execution_count": 115,
   "metadata": {
    "collapsed": true
   },
   "outputs": [],
   "source": [
    "pDAll=np.zeros((nruns,len(tarray)));#Dark state probability Array\n",
    "wfa2=np.array(wfarrayall)"
   ]
  },
  {
   "cell_type": "code",
   "execution_count": 116,
   "metadata": {
    "collapsed": false
   },
   "outputs": [],
   "source": [
    "for j in range(0,nruns):\n",
    "    for i in range(0,len(tarray)):\n",
    "        pDAll[j,i]=np.absolute(np.dot(np.conj(psiDark).T,wfa2[j,i])[0,0])**2 #projection onto the dark state"
   ]
  },
  {
   "cell_type": "code",
   "execution_count": 117,
   "metadata": {
    "collapsed": true
   },
   "outputs": [],
   "source": [
    "pDAvg = np.zeros(len(tarray));\n",
    "for i in range(0,len(tarray)):\n",
    "    pDAvg[i]=np.mean(pDAll.T[i])"
   ]
  },
  {
   "cell_type": "code",
   "execution_count": 170,
   "metadata": {
    "collapsed": false
   },
   "outputs": [
    {
     "data": {
      "image/png": "[encoded data removed]",
      "text/plain": [
       "<matplotlib.figure.Figure at 0x12230da90>"
      ]
     },
     "metadata": {},
     "output_type": "display_data"
    }
   ],
   "source": [
    "fig3 = plt.figure(figsize = (1.5*3.38,1.5*2))  \n",
    "ax3 = fig3.add_subplot(111)\n",
    "#ax3.plot(list(tarray),pDAll[0],color='y',linestyle='-',)\n",
    "ax3.plot(list(tarray),pDAll[1],color='b',linestyle='-',label=r'Single Trajectory')\n",
    "ax3.plot(list(tarray),pDAll[20],color='g',linestyle='-')\n",
    "ax3.plot(list(tarray),pDAll[35],color='r',linestyle='-')\n",
    "ax3.plot(list(tarray),pDAvg,color='k',linestyle='--',label=r'Average')\n",
    "ax3.set_xlim([0,12])\n",
    "ax3.set_ylim([0,1.05])\n",
    "ax3.set_xlabel(r'$t$',fontsize=12)\n",
    "ax3.set_ylabel(r'$|P_D|^2$',fontsize=12)\n",
    "ax3.set_title(r'$\\mathrm{Multiple}$ $\\mathrm{Trajectories}$')\n",
    "ax3.legend(loc='lower right',title=r'',fontsize=10)\n",
    "plt.show()"
   ]
  },
  {
   "cell_type": "code",
   "execution_count": 131,
   "metadata": {
    "collapsed": false
   },
   "outputs": [
    {
     "data": {
      "image/png": "[encoded data removed]",
      "text/plain": [
       "<matplotlib.figure.Figure at 0x116aa2630>"
      ]
     },
     "metadata": {},
     "output_type": "display_data"
    }
   ],
   "source": [
    "fig4 = plt.figure(figsize = (1.5*3.38,1.5*2))  \n",
    "ax4 = fig4.add_subplot(111)\n",
    "ax4.plot(list(tarray),pDAvg,color='k',label=r'Average')\n",
    "ax4.set_xlim([0,20])\n",
    "ax4.set_ylim([0,1.05])\n",
    "ax4.set_xlabel(r'$t$',fontsize=12)\n",
    "ax4.set_ylabel(r'$|P_D|^2$',fontsize=12)\n",
    "ax4.set_title(r'$\\mathrm{Average}$ $\\mathrm{Trajectory}$')\n",
    "ax4.legend(loc='lower right',title=r'',fontsize=10)\n",
    "plt.show()"
   ]
  },
  {
   "cell_type": "markdown",
   "metadata": {},
   "source": [
    "## Unraveling 2: Quantization Axis along $\\vec{e}_y$.\n",
    "\n",
    "In this case, we choose our quantization axis to be along the polarization of the incoming laser, $\\vec{e}_y = \\vec{e}_0$. Therefore, we only drive transitions between states with the same $m_y$ number. The raising and lowering operators $\\hat{D}_y^{(\\dagger)}$ in the Hamiltonian are now given by\n",
    "\n",
    "$$\\hat{D}^{(\\dagger)}_y = \\sum_{q = 0,\\pm 1}\\hat{D}_q(\\vec{e}_q\\cdot\\vec{e}_y) = \\hat{D}^{(\\dagger)}_0$$\n",
    "With the dark state given by \n",
    "$$|\\psi_{D}\\rangle^{(y)} = |g,m_y = 0\\rangle$$\n",
    "We initialize the state again in $|g,m_z=0\\rangle$, which in the $m_y$ basis is given by \n",
    "$$|g,m_z=0\\rangle = -\\frac{i}{\\sqrt{2}}|g,m_y = 0\\rangle+\\frac{1}{2}(|g,m_y = -1\\rangle - |g,m_y = +1\\rangle)$$\n",
    "where we have rotated the (coherent) Hamiltonian and the eigenstates to the new quantization basis via $\\hat{H}^{(z)}\\rightarrow U^{\\dagger}\\hat{H}^{(z)}U = \\hat{H}^{(y)}$ and $|\\psi\\rangle^{(z)}\\rightarrow U^{\\dagger}|\\psi\\rangle^{(z)} = |\\psi\\rangle^{(y)}$ with $U = exp(i S_x\\frac{\\pi}{2})$."
   ]
  },
  {
   "cell_type": "code",
   "execution_count": 35,
   "metadata": {
    "collapsed": false
   },
   "outputs": [],
   "source": [
    "#Initialize in |g,mz=-1>\n",
    "psiinit_my=np.dot(np.conj(rotM).T,psiinit[0:3])\n",
    "normmy=np.linalg.norm(psiinit_my)\n",
    "psiinit_my=psiinit_my/normmy"
   ]
  },
  {
   "cell_type": "code",
   "execution_count": 36,
   "metadata": {
    "collapsed": false
   },
   "outputs": [],
   "source": [
    "psiinit_my=np.concatenate((psiinit_my,np.array([[0+0j],[0+0j],[0+0j]])))"
   ]
  },
  {
   "cell_type": "code",
   "execution_count": 37,
   "metadata": {
    "collapsed": false
   },
   "outputs": [],
   "source": [
    "Dy = D02#Sy is the polarization axis"
   ]
  },
  {
   "cell_type": "code",
   "execution_count": 38,
   "metadata": {
    "collapsed": false
   },
   "outputs": [],
   "source": [
    "H=-Omega/2*(np.conj(Dy).T+Dy)"
   ]
  },
  {
   "cell_type": "code",
   "execution_count": 39,
   "metadata": {
    "collapsed": false
   },
   "outputs": [],
   "source": [
    "Heff=H-1j*Gamma/2*(np.dot(np.conj(D02).T,D02)+np.dot(np.conj(D12).T,D12)+np.dot(np.conj(Dm12).T,Dm12))"
   ]
  },
  {
   "cell_type": "markdown",
   "metadata": {},
   "source": [
    "### Single Trajectory"
   ]
  },
  {
   "cell_type": "code",
   "execution_count": 72,
   "metadata": {
    "collapsed": false
   },
   "outputs": [
    {
     "data": {
      "text/plain": [
       "0.62836968696087392"
      ]
     },
     "execution_count": 72,
     "metadata": {},
     "output_type": "execute_result"
    }
   ],
   "source": [
    "epsilon = np.random.rand(1)[0];\n",
    "epsilon"
   ]
  },
  {
   "cell_type": "code",
   "execution_count": 73,
   "metadata": {
    "collapsed": true
   },
   "outputs": [],
   "source": [
    "wf=psiinit_my;\n",
    "dp=np.linalg.norm(wf)**2"
   ]
  },
  {
   "cell_type": "code",
   "execution_count": 74,
   "metadata": {
    "collapsed": true
   },
   "outputs": [],
   "source": [
    "wfarray_my=[];\n",
    "dparray_my=[];"
   ]
  },
  {
   "cell_type": "code",
   "execution_count": 75,
   "metadata": {
    "collapsed": true
   },
   "outputs": [],
   "source": [
    "t0=0;"
   ]
  },
  {
   "cell_type": "code",
   "execution_count": 76,
   "metadata": {
    "collapsed": false
   },
   "outputs": [
    {
     "name": "stdout",
     "output_type": "stream",
     "text": [
      "0.37165678763\n",
      "0.915000185288\n"
     ]
    }
   ],
   "source": [
    "for el in tarray:\n",
    "    #Step 1: look at the decaying norm of the WF. When it is less than epsilon, jump. \n",
    "    #DO NOT reassign wf until this happens\n",
    "    wftemp=np.dot(linalg.expm(-1j*Heff*(el-t0)),wf)\n",
    "    norm=np.linalg.norm(wftemp)\n",
    "    if norm**2<epsilon:\n",
    "        epsilon=np.random.rand(1)[0];\n",
    "        t0=el;\n",
    "        print(epsilon)\n",
    "        #Step 2: if decaying norm is less than epsilon, we jump and then renormalize. How we pick which jump to do?\n",
    "        #projection onto excited state manifold for current WF\n",
    "        pjump=np.absolute(np.dot(np.conj(wftemp).T,np.dot(Jump0+Jump1+Jumpm1,wftemp))[0,0])*dt\n",
    "        #individual jump probabilities\n",
    "        pjump0=np.absolute(np.dot(np.conj(wftemp).T,np.dot(Jump0,wftemp))[0,0])*dt\n",
    "        pjump1=np.absolute(np.dot(np.conj(wftemp).T,np.dot(Jump1,wftemp))[0,0])*dt\n",
    "        pjumpm1=np.absolute(np.dot(np.conj(wftemp).T,np.dot(Jumpm1,wftemp))[0,0])*dt\n",
    "        #ratio of each jump probability to the total jump probability\n",
    "        pm1r=pjumpm1/pjump\n",
    "        p1r=pjump1/pjump\n",
    "        p0r=pjump0/pjump\n",
    "        #print(pm1r,p1r,p0r) - pm1r and p1r are equal to 1/4, p0r = 1/2. Not clear how to rigorously do this for multiple jumps\n",
    "        eta = np.random.rand(1)[0];#generate a new random number to determine which qm jump to take\n",
    "        if eta<p0r:\n",
    "            wftemp=np.dot(D02,wftemp)\n",
    "            norm=np.linalg.norm(wftemp)\n",
    "            wftemp=wftemp/norm\n",
    "            wf=wftemp\n",
    "            norm=np.linalg.norm(wftemp)\n",
    "        else:\n",
    "            eta2=np.random.rand(1)[0];\n",
    "            if eta2<p1r:\n",
    "                wftemp=np.dot(D12,wftemp)\n",
    "                norm=np.linalg.norm(wftemp)\n",
    "                wftemp=wftemp/norm\n",
    "                wf=wftemp\n",
    "                norm=np.linalg.norm(wftemp)\n",
    "            else:\n",
    "                wftemp=np.dot(Dm12,wftemp)\n",
    "                norm=np.linalg.norm(wftemp)\n",
    "                wftemp=wftemp/norm\n",
    "                wf=wftemp\n",
    "                norm=np.linalg.norm(wftemp)\n",
    "    wfarray_my.append(wftemp)\n",
    "    dparray_my.append(norm**2)"
   ]
  },
  {
   "cell_type": "code",
   "execution_count": 77,
   "metadata": {
    "collapsed": true
   },
   "outputs": [],
   "source": [
    "#Go back and normalize all the wafefunctions\n",
    "for i in range(0,len(wfarray_my)):\n",
    "    norm_my=np.linalg.norm(wfarray_my[i])\n",
    "    wfarray_my[i]=wfarray_my[i]/norm_my"
   ]
  },
  {
   "cell_type": "code",
   "execution_count": 78,
   "metadata": {
    "collapsed": true
   },
   "outputs": [],
   "source": [
    "psiDark_my=np.zeros((1,6),dtype=np.complex).T\n",
    "psiDark_my[1,0]=1\n",
    "norm=np.linalg.norm(psiDark_my)#normalize\n",
    "psiDark_my=psiDark_my/norm"
   ]
  },
  {
   "cell_type": "code",
   "execution_count": 79,
   "metadata": {
    "collapsed": false
   },
   "outputs": [],
   "source": [
    "pD_my=np.zeros(len(wfarray_my));#Dark state overlap\n",
    "wfa_my=np.array(wfarray_my);\n",
    "for i in range(0,len(wfarray)):\n",
    "    pD_my[i]=np.absolute(np.dot(np.conj(psiDark_my).T,wfa_my[i]))[0,0]**2"
   ]
  },
  {
   "cell_type": "code",
   "execution_count": 143,
   "metadata": {
    "collapsed": false
   },
   "outputs": [
    {
     "data": {
      "image/png": "[encoded data removed]",
      "text/plain": [
       "<matplotlib.figure.Figure at 0x121b94cc0>"
      ]
     },
     "metadata": {},
     "output_type": "display_data"
    }
   ],
   "source": [
    "fig5 = plt.figure(figsize = (1.5*3.38,1.5*2))  \n",
    "ax5 = fig5.add_subplot(111)\n",
    "ax5.plot(list(tarray),pD_my,color='k',label='Dark State')\n",
    "ax5.set_xlim([0,10])\n",
    "ax5.set_ylim([0,1.05])\n",
    "ax5.set_xlabel(r'$t$',fontsize=12)\n",
    "ax5.set_ylabel(r'$|P_D|^2$',fontsize=12)\n",
    "ax5.set_title(r'$\\mathrm{Single}$ $\\mathrm{Trajectory}$')\n",
    "#ax5.legend(loc='lower right',title=r'',fontsize=10)\n",
    "plt.show()"
   ]
  },
  {
   "cell_type": "markdown",
   "metadata": {},
   "source": [
    "#### Physical Interpretation of trajectory:\n",
    "\n",
    "In this unraveling, we see that the system begins to rotate toward the dark state, but then a quantum jump occurs. If we see a photon of polarization $q=0$, as in the above trajectory, the system is projected onto either $|g,m_y=\\pm 1$, which is orthogonal to the dark state, thus the overlap with the dark state is zero. After some time, it is pumped to the $|e,m_y=\\pm 1$ state (which also has zero overlap with the dark state), but eventually we might se a photon of $q=\\pm 1$ at this point, we know the system is prjected into the dark state, where it stays. Thus, this trajectory is more discontinuous, and quantum jumps are what eventually propel us to the dark state, unlike the other example above. **Note** It is also possible that the first thing we see is a photon of polarization $q = \\pm 1$. In this case, we project directly onto the dark state and evolution stops."
   ]
  },
  {
   "cell_type": "markdown",
   "metadata": {
    "collapsed": true
   },
   "source": [
    "### Many Trajectories"
   ]
  },
  {
   "cell_type": "code",
   "execution_count": 49,
   "metadata": {
    "collapsed": false
   },
   "outputs": [],
   "source": [
    "nruns=100\n",
    "size=(nruns,)+(len(tarray),)+psiinit_my.shape"
   ]
  },
  {
   "cell_type": "code",
   "execution_count": 50,
   "metadata": {
    "collapsed": false
   },
   "outputs": [],
   "source": [
    "wfarrayall_my = np.zeros(size,dtype=np.complex)\n",
    "dparrayall_my = np.zeros((nruns,)+(len(tarray),))"
   ]
  },
  {
   "cell_type": "code",
   "execution_count": 51,
   "metadata": {
    "collapsed": false
   },
   "outputs": [
    {
     "name": "stdout",
     "output_type": "stream",
     "text": [
      "eps = 0.0931437374159\n",
      "eta = 0.602438531036\n",
      "eta2 = 0.98037978433\n",
      "eps = 0.00666314232247\n",
      "eta = 0.16522223715\n",
      "eps = 0.293795426668\n",
      "eta = 0.380985555589\n",
      "eps = 0.648562832422\n",
      "eta = 0.0768754941791\n",
      "eps = 0.438532850913\n",
      "eta = 0.549593235362\n",
      "eta2 = 0.7260000908\n",
      "eps = 0.406445518381\n",
      "eta = 0.449868425653\n",
      "eps = 0.375486208237\n",
      "eta = 0.877316471482\n",
      "eta2 = 0.586394035126\n",
      "eps = 0.467787056365\n",
      "eta = 0.411672307023\n",
      "eps = 0.493452330878\n",
      "eta = 0.75836573384\n",
      "eta2 = 0.571663300052\n",
      "eps = 0.932759253329\n",
      "eta = 0.358312117034\n",
      "eps = 0.744758867468\n",
      "eta = 0.539785863942\n",
      "eta2 = 0.693678840085\n",
      "eps = 0.67461305719\n",
      "eta = 0.206045997435\n",
      "eps = 0.303534655531\n",
      "eta = 0.381847741807\n",
      "eps = 0.402267561335\n",
      "eta = 0.782808227357\n",
      "eta2 = 0.843895646442\n",
      "eps = 0.505355407603\n",
      "eta = 0.0276242716857\n",
      "eps = 0.593351600832\n",
      "eta = 0.478528202941\n",
      "eps = 0.716051700968\n",
      "eta = 0.945053784704\n",
      "eta2 = 0.0110219168637\n",
      "eps = 0.771621464482\n",
      "eta = 0.331852400895\n",
      "eps = 0.240140893494\n",
      "eta = 0.741283782697\n",
      "eta2 = 0.299504534931\n",
      "eps = 0.912703074217\n",
      "eta = 0.530003864111\n",
      "eta2 = 0.305779784122\n",
      "eps = 0.409149329618\n",
      "eta = 0.894227694683\n",
      "eta2 = 0.86320860281\n",
      "eps = 0.669070600449\n",
      "eta = 0.0874065182212\n",
      "eps = 0.994379385285\n",
      "eta = 0.0287434985725\n",
      "eps = 0.736768772597\n",
      "eta = 0.18952272203\n",
      "eps = 0.80978017847\n",
      "eta = 0.842757733488\n",
      "eta2 = 0.591654564995\n",
      "eps = 0.301607776441\n",
      "eta = 0.372032912241\n",
      "eps = 0.00572475724949\n",
      "eta = 0.797188378995\n",
      "eta2 = 0.188711191054\n",
      "eps = 0.0105545431379\n",
      "eta = 0.274729919688\n",
      "eps = 0.18846612716\n",
      "eta = 0.815033668907\n",
      "eta2 = 0.292974220958\n",
      "eps = 0.802351896219\n",
      "eta = 0.856296597353\n",
      "eta2 = 0.768068699434\n",
      "eps = 0.829434899312\n",
      "eta = 0.660363086633\n",
      "eta2 = 0.806712663269\n",
      "eps = 0.271343009904\n",
      "eta = 0.225881427402\n",
      "eps = 0.153236998445\n",
      "eta = 0.595883240888\n",
      "eta2 = 0.648872658511\n",
      "eps = 0.703340545711\n",
      "eta = 0.325589173576\n",
      "eps = 0.408915626847\n",
      "eta = 0.0867915183059\n",
      "eps = 0.475327572171\n",
      "eta = 0.810104001924\n",
      "eta2 = 0.213978860832\n",
      "eps = 0.13476014875\n",
      "eta = 0.429895391494\n",
      "eps = 0.896401183033\n",
      "eta = 0.666616267907\n",
      "eta2 = 0.741463941404\n",
      "eps = 0.322138460934\n",
      "eta = 0.194241814112\n",
      "eps = 0.56328943902\n",
      "eta = 0.479019157358\n",
      "eps = 0.4388395518\n",
      "eta = 0.283162245952\n",
      "eps = 0.891453781152\n",
      "eta = 0.0166194883322\n",
      "eps = 0.720884746397\n",
      "eta = 0.271365903878\n",
      "eps = 0.46787388618\n",
      "eta = 0.445661681597\n",
      "eps = 0.412227343815\n",
      "eta = 0.287567590509\n",
      "eps = 0.144192056136\n",
      "eta = 0.259631993078\n",
      "eps = 0.396338062982\n",
      "eta = 0.0955376535938\n",
      "eps = 0.636144184353\n",
      "eta = 0.0581216433141\n",
      "eps = 0.282866983358\n",
      "eta = 0.0205974732755\n",
      "eps = 0.790308871429\n",
      "eta = 0.022220672698\n",
      "eps = 0.76870334188\n",
      "eta = 0.86693023697\n",
      "eta2 = 0.149647087481\n",
      "eps = 0.857756310544\n",
      "eta = 0.294773890474\n",
      "eps = 0.876283294963\n",
      "eta = 0.132558936909\n",
      "eps = 0.472985493314\n",
      "eta = 0.740050127337\n",
      "eta2 = 0.172316312391\n",
      "eps = 0.206053494397\n",
      "eta = 0.171910775118\n",
      "eps = 0.0603159589273\n",
      "eta = 0.142167151741\n",
      "eps = 0.69200072334\n",
      "eta = 0.576136765819\n",
      "eta2 = 0.38217337914\n",
      "eps = 0.138910204812\n",
      "eta = 0.230893433259\n",
      "eps = 0.106165737458\n",
      "eta = 0.339941089567\n",
      "eps = 0.295711338792\n",
      "eta = 0.00486051146521\n",
      "eps = 0.539090640139\n",
      "eta = 0.940155240479\n",
      "eta2 = 0.238235112445\n",
      "eps = 0.728679559833\n",
      "eta = 0.671620483625\n",
      "eta2 = 0.713730867245\n",
      "eps = 0.0531995555663\n",
      "eta = 0.791053061848\n",
      "eta2 = 0.0462212387362\n",
      "eps = 0.167964443515\n",
      "eta = 0.938482818262\n",
      "eta2 = 0.656977175508\n",
      "eps = 0.704872324325\n",
      "eta = 0.441343840499\n",
      "eps = 0.681944658124\n",
      "eta = 0.752251430815\n",
      "eta2 = 0.396892221058\n",
      "eps = 0.587637253092\n",
      "eta = 0.916802762932\n",
      "eta2 = 0.191464524107\n",
      "eps = 0.136729700685\n",
      "eta = 0.421969037829\n",
      "eps = 0.516557395894\n",
      "eta = 0.0429421269078\n",
      "eps = 0.483702521902\n",
      "eta = 0.922031156835\n",
      "eta2 = 0.0344529051761\n",
      "eps = 0.0244539232888\n",
      "eta = 0.0106401742678\n",
      "eps = 0.831938210857\n",
      "eta = 0.582808313399\n",
      "eta2 = 0.499575860366\n",
      "eps = 0.640361555223\n",
      "eta = 0.561457193544\n",
      "eta2 = 0.787272906229\n",
      "eps = 0.447808388919\n",
      "eta = 0.937993047194\n",
      "eta2 = 0.472757275396\n",
      "eps = 0.0810272981176\n",
      "eta = 0.265966144329\n",
      "eps = 0.175236812366\n",
      "eta = 0.467705640453\n",
      "eps = 0.381748496848\n",
      "eta = 0.464268993642\n",
      "eps = 0.700042182561\n",
      "eta = 0.457394942395\n",
      "eps = 0.0718505168391\n",
      "eta = 0.785358033007\n",
      "eta2 = 0.700055775128\n",
      "eps = 0.754582009651\n",
      "eta = 0.696611917248\n",
      "eta2 = 0.710309142234\n",
      "eps = 0.193384879719\n",
      "eta = 0.754030987864\n",
      "eta2 = 0.254471167387\n",
      "eps = 0.97354465814\n",
      "eta = 0.0690212847257\n",
      "eps = 0.885511939591\n",
      "eta = 0.523794013106\n",
      "eta2 = 0.618782182969\n",
      "eps = 0.386109543202\n",
      "eta = 0.999270334761\n",
      "eta2 = 0.855846968645\n",
      "eps = 0.403978499374\n",
      "eta = 0.125017037526\n",
      "eps = 0.420087029831\n",
      "eta = 0.292956409026\n",
      "eps = 0.79836040468\n",
      "eta = 0.930138222478\n",
      "eta2 = 0.547532310964\n",
      "eps = 0.124995945738\n",
      "eta = 0.492827352799\n",
      "eps = 0.574786342473\n",
      "eta = 0.788278962192\n",
      "eta2 = 0.853309009736\n",
      "eps = 0.436066978381\n",
      "eta = 0.457587936304\n",
      "eps = 0.664264533126\n",
      "eta = 0.0292382407321\n",
      "eps = 0.13644634889\n",
      "eta = 0.284537830168\n",
      "eps = 0.374497945909\n",
      "eta = 0.555222837418\n",
      "eta2 = 0.48058155898\n",
      "eps = 0.0335362020738\n",
      "eta = 0.840537661393\n",
      "eta2 = 0.782293296662\n",
      "eps = 0.185426435576\n",
      "eta = 0.641368715179\n",
      "eta2 = 0.100777189585\n",
      "eps = 0.534189749275\n",
      "eta = 0.500840440803\n",
      "eta2 = 0.38308309155\n",
      "eps = 0.755048258824\n",
      "eta = 0.706485207136\n",
      "eta2 = 0.507235523252\n",
      "eps = 0.650022514487\n",
      "eta = 0.0987251773225\n",
      "eps = 0.134820553748\n",
      "eta = 0.738104014822\n",
      "eta2 = 0.303423299591\n",
      "eps = 0.741750190145\n",
      "eta = 0.988531592415\n",
      "eta2 = 0.540279643982\n",
      "eps = 0.958978299274\n",
      "eta = 0.11948022782\n",
      "eps = 0.864257604834\n",
      "eta = 0.346106597967\n",
      "eps = 0.107472244467\n",
      "eta = 0.649703197514\n",
      "eta2 = 0.417700681722\n",
      "eps = 0.88216262627\n",
      "eta = 0.016715852186\n",
      "eps = 0.461388187904\n",
      "eta = 0.150592624601\n",
      "eps = 0.313713515249\n",
      "eta = 0.499524652396\n",
      "eps = 0.307483657414\n",
      "eta = 0.23330667102\n",
      "eps = 0.0338995656527\n",
      "eta = 0.180841875148\n",
      "eps = 0.312541297968\n",
      "eta = 0.837773292101\n",
      "eta2 = 0.570572824143\n",
      "eps = 0.0774593892396\n",
      "eta = 0.609869214564\n",
      "eta2 = 0.671985045844\n",
      "eps = 0.153584877998\n",
      "eta = 0.635486229901\n",
      "eta2 = 0.216520227993\n",
      "eps = 0.063608552038\n",
      "eta = 0.340486987237\n",
      "eps = 0.0248274865395\n",
      "eta = 0.631301739947\n",
      "eta2 = 0.126773097167\n",
      "eps = 0.131000457596\n",
      "eta = 0.886612469461\n",
      "eta2 = 0.25690584998\n",
      "eps = 0.617203595973\n",
      "eta = 0.986485543422\n",
      "eta2 = 0.632834674006\n",
      "eps = 0.919796679377\n",
      "eta = 0.488368930198\n",
      "eps = 0.740131999899\n",
      "eta = 0.961421444732\n",
      "eta2 = 0.169457172682\n",
      "eps = 0.558806379737\n",
      "eta = 0.829410745975\n",
      "eta2 = 0.379017607067\n"
     ]
    }
   ],
   "source": [
    "for i in range(0,nruns):\n",
    "    wf=psiinit_my;\n",
    "    wfarraytemp = [];\n",
    "    dparraytemp = [];\n",
    "    epsilon=np.random.rand(1)[0];\n",
    "    t0=0;\n",
    "    for el in tarray:\n",
    "        #Step 1: look at the decaying norm of the WF. When it is less than epsilon, jump. \n",
    "        #DO NOT reassign wf until this happens\n",
    "        wftemp=np.dot(linalg.expm(-1j*Heff*(el-t0)),wf)\n",
    "        norm=np.linalg.norm(wftemp)\n",
    "        if norm**2<epsilon:\n",
    "            epsilon=np.random.rand(1)[0];\n",
    "            t0=el;\n",
    "            print('eps = '+str(epsilon))\n",
    "            #Step 2: if decaying norm is less than epsilon, we jump and then renormalize. How we pick which jump to do?\n",
    "            #projection onto excited state manifold for current WF\n",
    "            pjump=np.absolute(np.dot(np.conj(wftemp).T,np.dot(Jump0+Jump1+Jumpm1,wftemp))[0,0])*dt\n",
    "            #individual jump probabilities\n",
    "            pjump0=np.absolute(np.dot(np.conj(wftemp).T,np.dot(Jump0,wftemp))[0,0])*dt\n",
    "            pjump1=np.absolute(np.dot(np.conj(wftemp).T,np.dot(Jump1,wftemp))[0,0])*dt\n",
    "            pjumpm1=np.absolute(np.dot(np.conj(wftemp).T,np.dot(Jumpm1,wftemp))[0,0])*dt\n",
    "            #ratio of each jump probability to the total jump probability\n",
    "            pm1r=pjumpm1/pjump\n",
    "            p1r=pjump1/pjump\n",
    "            p0r=pjump0/pjump\n",
    "            eta = np.random.rand(1)[0];#generate a new random number to determine which qm jump to take\n",
    "            print('eta = '+str(eta))\n",
    "            if eta<p0r:\n",
    "                wftemp=np.dot(D02,wftemp)\n",
    "                norm=np.linalg.norm(wftemp)\n",
    "                wftemp=wftemp/norm\n",
    "                wf=wftemp\n",
    "                norm=np.linalg.norm(wftemp)\n",
    "            else:\n",
    "                #now generate a NEW number if you rule out the highest probability jump.\n",
    "                eta2=np.random.rand(1)[0];\n",
    "                print('eta2 = '+str(eta2))\n",
    "                if eta2<p1r:\n",
    "                    wftemp=np.dot(D12,wftemp)\n",
    "                    norm=np.linalg.norm(wftemp)\n",
    "                    wftemp=wftemp/norm\n",
    "                    wf=wftemp\n",
    "                    norm=np.linalg.norm(wftemp)\n",
    "                else:\n",
    "                    wftemp=np.dot(Dm12,wftemp)\n",
    "                    norm=np.linalg.norm(wftemp)\n",
    "                    wftemp=wftemp/norm\n",
    "                    wf=wftemp\n",
    "                    norm=np.linalg.norm(wftemp)\n",
    "        wfarraytemp.append(wftemp)\n",
    "        dparraytemp.append(norm**2)\n",
    "    \n",
    "    #Go back and normalize all the wafefunctions\n",
    "    for j in range(0,len(wfarraytemp)):\n",
    "        norm=np.linalg.norm(wfarraytemp[j])\n",
    "        wfarraytemp[j]=wfarraytemp[j]/norm\n",
    "    \n",
    "    wfarrayall_my[i]=wfarraytemp\n",
    "    dparrayall_my[i]=dparraytemp"
   ]
  },
  {
   "cell_type": "code",
   "execution_count": 52,
   "metadata": {
    "collapsed": true
   },
   "outputs": [],
   "source": [
    "pDAll_my=np.zeros((nruns,len(tarray)));#Dark state probability Array\n",
    "pEAll_my=np.zeros((nruns,len(tarray)));#|e,my=-1> probability Array\n",
    "pSAll_my=np.zeros((nruns,len(tarray)));#|g,my=-1> probability Array\n",
    "wfa2_my=np.array(wfarrayall_my)"
   ]
  },
  {
   "cell_type": "code",
   "execution_count": 53,
   "metadata": {
    "collapsed": false
   },
   "outputs": [],
   "source": [
    "for j in range(0,nruns):\n",
    "    for i in range(0,len(tarray)):\n",
    "        pDAll_my[j,i]=np.absolute(np.dot(np.conj(psiDark_my).T,wfa2_my[j,i])[0,0])**2\n",
    "        pEAll_my[j,i]=np.absolute(wfa2_my[j,i,5,0])**2\n",
    "        pSAll_my[j,i]=np.absolute(wfa2_my[j,i,2,0])**2"
   ]
  },
  {
   "cell_type": "code",
   "execution_count": 54,
   "metadata": {
    "collapsed": true
   },
   "outputs": [],
   "source": [
    "pDAvg_my = np.zeros(len(tarray));\n",
    "for i in range(0,len(tarray)):\n",
    "    pDAvg_my[i]=np.mean(pDAll_my.T[i])"
   ]
  },
  {
   "cell_type": "code",
   "execution_count": 172,
   "metadata": {
    "collapsed": false
   },
   "outputs": [
    {
     "data": {
      "image/png": "[encoded data removed]",
      "text/plain": [
       "<matplotlib.figure.Figure at 0x10e30b5c0>"
      ]
     },
     "metadata": {},
     "output_type": "display_data"
    }
   ],
   "source": [
    "fig6 = plt.figure(figsize = (1.5*3.38,1.5*2))  \n",
    "ax6 = fig6.add_subplot(111)\n",
    "ax6.plot(list(tarray),pDAll_my[9],color='k',linestyle='-',label=r'$\\mathrm{Dark}$ $\\mathrm{state:}$ $|g,m_y = 0\\rangle$')\n",
    "ax6.plot(list(tarray),pEAll_my[9],color='r',linestyle='-',label=r'$|e,m_y = -1\\rangle$')\n",
    "ax6.plot(list(tarray),pSAll_my[9],color='b',linestyle='-',label=r'$|g,m_y = -1\\rangle$')\n",
    "ax6.set_xlim([0,10])\n",
    "ax6.set_ylim([0,1.05])\n",
    "ax6.set_xlabel(r'$t$',fontsize=12)\n",
    "ax6.set_ylabel(r'$|P_D|^2$',fontsize=12)\n",
    "ax6.set_title('Example evolution of one trajectory')\n",
    "ax6.legend(loc='lower right',title=r'',fontsize=10)\n",
    "plt.show()"
   ]
  },
  {
   "cell_type": "code",
   "execution_count": 173,
   "metadata": {
    "collapsed": false
   },
   "outputs": [
    {
     "data": {
      "image/png": "[encoded data removed]",
      "text/plain": [
       "<matplotlib.figure.Figure at 0x116b9b6a0>"
      ]
     },
     "metadata": {},
     "output_type": "display_data"
    }
   ],
   "source": [
    "fig7 = plt.figure(figsize = (1.5*3.38,1.5*2))  \n",
    "ax7 = fig7.add_subplot(111)\n",
    "ax7.plot(list(tarray),pDAll_my[0],color='y',linestyle='-',)\n",
    "ax7.plot(list(tarray),pDAll_my[9],color='b',linestyle='-',label=r'Single Trajectory')\n",
    "ax7.plot(list(tarray),pDAll_my[45],color='g',linestyle='-')\n",
    "#ax7.plot(list(tarray),pDAll_my[89],color='r',linestyle='-')\n",
    "ax7.plot(list(tarray),pDAvg_my,color='k',linestyle='--',label=r'Average')\n",
    "ax7.set_xlim([0,10])\n",
    "ax7.set_ylim([0,1.05])\n",
    "ax7.set_xlabel(r'$t$',fontsize=12)\n",
    "ax7.set_ylabel(r'$|P_D|^2$',fontsize=12)\n",
    "ax7.set_title(r'$\\mathrm{Multiple}$ $\\mathrm{Trajectories}$')\n",
    "ax7.legend(loc='lower right',title=r'',fontsize=10)\n",
    "plt.show()"
   ]
  },
  {
   "cell_type": "code",
   "execution_count": 136,
   "metadata": {
    "collapsed": false
   },
   "outputs": [
    {
     "data": {
      "image/png": "[encoded data removed]",
      "text/plain": [
       "<matplotlib.figure.Figure at 0x11c18f630>"
      ]
     },
     "metadata": {},
     "output_type": "display_data"
    }
   ],
   "source": [
    "fig8 = plt.figure(figsize = (1.5*3.38,1.5*2))  \n",
    "ax8 = fig8.add_subplot(111)\n",
    "ax8.plot(list(tarray),pDAvg_my,color='k',label=r'Average')\n",
    "ax8.set_xlim([0,20])\n",
    "ax8.set_ylim([0,1.05])\n",
    "ax8.set_xlabel(r'$t$',fontsize=12)\n",
    "ax8.set_ylabel(r'$|P_D|^2$',fontsize=12)\n",
    "ax8.set_title(r'$\\mathrm{Average}$ $\\mathrm{Trajectory}$')\n",
    "ax8.legend(loc='lower right',title=r'',fontsize=10)\n",
    "plt.show()"
   ]
  },
  {
   "cell_type": "markdown",
   "metadata": {},
   "source": [
    "### Comparison Between Unravellings"
   ]
  },
  {
   "cell_type": "code",
   "execution_count": 162,
   "metadata": {
    "collapsed": false
   },
   "outputs": [
    {
     "data": {
      "image/png": "[encoded data removed]",
      "text/plain": [
       "<matplotlib.figure.Figure at 0x10e24d160>"
      ]
     },
     "metadata": {},
     "output_type": "display_data"
    }
   ],
   "source": [
    "fig9 = plt.figure(figsize = (2*1.5*3.38,2*1.5*2))\n",
    "\n",
    "ax9a = fig9.add_subplot(221)\n",
    "ax9a.plot(list(tarray),pD,color='k',label='Dark State')\n",
    "ax9a.set_xlim([0,12])\n",
    "ax9a.set_ylim([0,1.05])\n",
    "#ax9a.set_xlabel(r'$t$',fontsize=12)\n",
    "ax9a.set_ylabel(r'$|P_D|^2$',fontsize=12)\n",
    "ax9a.set_title(r'$\\mathrm{Single}$ $\\mathrm{Trajectory}$')\n",
    "\n",
    "ax9b = fig9.add_subplot(222)\n",
    "ax9b.plot(list(tarray),pD_my,color='k',label='Dark State')\n",
    "ax9b.set_xlim([0,12])\n",
    "ax9b.set_ylim([0,1.05])\n",
    "#ax9b.set_xlabel(r'$t$',fontsize=12)\n",
    "#ax9b.set_ylabel(r'$|P_D|^2$',fontsize=12)\n",
    "ax9b.set_title(r'$\\mathrm{Single}$ $\\mathrm{Trajectory}$')\n",
    "\n",
    "ax9a = fig9.add_subplot(223)\n",
    "ax9a.plot(list(tarray),pDAvg,color='k',label=r'Average')\n",
    "ax9a.set_xlim([0,12])\n",
    "ax9a.set_ylim([0,1.05])\n",
    "ax9a.set_xlabel(r'$\\Gamma t$',fontsize=12)\n",
    "ax9a.set_ylabel(r'$|P_D|^2$',fontsize=12)\n",
    "ax9a.set_title(r'$\\mathrm{Average}$ $\\mathrm{Trajectory}$')\n",
    "#ax9a.legend(loc='lower right',title=r'',fontsize=10)\n",
    "\n",
    "ax9d = fig9.add_subplot(224)\n",
    "ax9d.plot(list(tarray),pDAvg_my,color='k',label=r'Average')\n",
    "ax9d.set_xlim([0,12])\n",
    "ax9d.set_ylim([0,1.05])\n",
    "ax9d.set_xlabel(r'$\\Gamma t$',fontsize=12)\n",
    "#ax9d.set_ylabel(r'$|P_D|^2$',fontsize=12)\n",
    "ax9d.set_title(r'$\\mathrm{Average}$ $\\mathrm{Trajectory}$')\n",
    "#ax9b.legend(loc='lower right',title=r'',fontsize=10)\n",
    "plt.show()"
   ]
  },
  {
   "cell_type": "markdown",
   "metadata": {},
   "source": [
    "On average, both unravelings show similar behavior, however the physical interpretation of individual trajectories is very different. Additionally, we see that the second unraveling (where we choose the quantization axis to be parallel to the polarization axis) the average is much noisier because of the discontinuities in the trajectories. "
   ]
  },
  {
   "cell_type": "code",
   "execution_count": null,
   "metadata": {
    "collapsed": true
   },
   "outputs": [],
   "source": []
  }
 ],
 "metadata": {
  "anaconda-cloud": {},
  "kernelspec": {
   "display_name": "Python [Root]",
   "language": "python",
   "name": "Python [Root]"
  },
  "language_info": {
   "codemirror_mode": {
    "name": "ipython",
    "version": 3
   },
   "file_extension": ".py",
   "mimetype": "text/x-python",
   "name": "python",
   "nbconvert_exporter": "python",
   "pygments_lexer": "ipython3",
   "version": "3.5.2"
  }
 },
 "nbformat": 4,
 "nbformat_minor": 0
}
